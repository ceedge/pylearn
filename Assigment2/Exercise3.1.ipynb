{
 "cells": [
  {
   "cell_type": "markdown",
   "id": "70d13a5e",
   "metadata": {},
   "source": [
    "# Exercise 3.1"
   ]
  },
  {
   "cell_type": "markdown",
   "id": "bc8d67ab",
   "metadata": {},
   "source": [
    "(Validating User Input) Modify the script of Fig. 3.3 to validate its inputs. For any  input, if the value entered is other than 1 or 2, keep looping until the user enters a correct value. Use one counter to keep track of the number of passes, then calculate the number  of failures after all the user’s inputs have been received. \n",
    "\n"
   ]
  },
  {
   "cell_type": "code",
   "execution_count": 1,
   "id": "65ceb151",
   "metadata": {},
   "outputs": [
    {
     "name": "stdout",
     "output_type": "stream",
     "text": [
      "Enter result (1= passes, 2=fail): 1\n",
      "Enter result (1= passes, 2=fail): 2\n",
      "Enter result (1= passes, 2=fail): 1\n",
      "Enter result (1= passes, 2=fail): 1\n",
      "Enter result (1= passes, 2=fail): 2\n",
      "Enter result (1= passes, 2=fail): 1\n",
      "Enter result (1= passes, 2=fail): 2\n",
      "Enter result (1= passes, 2=fail): 3\n",
      "Enter result (1= passes, 2=fail): 1\n",
      "Enter result (1= passes, 2=fail): 2\n",
      "Enter result (1= passes, 2=fail): 2\n"
     ]
    }
   ],
   "source": [
    "# initialize variables\n",
    "\n",
    "passes=0 #number of passes\n",
    "failures=0 #number of failures\n",
    "student= 0\n",
    "### create the counter \n",
    "while student <10:\n",
    "    result=input('Enter result (1= passes, 2=fail): ')\n",
    "    if result.isnumeric():\n",
    "        result=int(result)\n",
    "        if result ==1 :\n",
    "            passes= passes+1\n",
    "            student= student+1\n",
    "        else:\n",
    "            if result==2:\n",
    "                failures = failures + 1\n",
    "                student=student +1\n",
    "    \n"
   ]
  },
  {
   "cell_type": "code",
   "execution_count": 2,
   "id": "1009507b",
   "metadata": {},
   "outputs": [
    {
     "name": "stdout",
     "output_type": "stream",
     "text": [
      "5 number of students passed!\n",
      "5 number of students failed!\n"
     ]
    }
   ],
   "source": [
    "print( passes,'number of students passed!')\n",
    "print(failures,'number of students failed!')"
   ]
  },
  {
   "cell_type": "code",
   "execution_count": null,
   "id": "14e15f81",
   "metadata": {},
   "outputs": [],
   "source": []
  }
 ],
 "metadata": {
  "kernelspec": {
   "display_name": "Python 3 (ipykernel)",
   "language": "python",
   "name": "python3"
  },
  "language_info": {
   "codemirror_mode": {
    "name": "ipython",
    "version": 3
   },
   "file_extension": ".py",
   "mimetype": "text/x-python",
   "name": "python",
   "nbconvert_exporter": "python",
   "pygments_lexer": "ipython3",
   "version": "3.9.7"
  }
 },
 "nbformat": 4,
 "nbformat_minor": 5
}
