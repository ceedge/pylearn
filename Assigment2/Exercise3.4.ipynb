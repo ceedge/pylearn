{
 "cells": [
  {
   "cell_type": "markdown",
   "id": "096e56cc",
   "metadata": {},
   "source": [
    "# Exercise 3.4"
   ]
  },
  {
   "cell_type": "markdown",
   "id": "db0b6141",
   "metadata": {},
   "source": [
    "3.4 (Fill in the Missing Code) In the code below  \n",
    "for ***:  \n",
    "    for ***:  \n",
    "        print('@')  \n",
    "    print()  \n",
    "  replace the *** so that when you execute the code, it displays two rows, each containing  seven @ symbols, as in:  \n",
    "  @@@@@@@ \n",
    "  @@@@@@@ \n",
    "\n",
    " "
   ]
  },
  {
   "cell_type": "code",
   "execution_count": 2,
   "id": "b27522a2",
   "metadata": {},
   "outputs": [
    {
     "name": "stdout",
     "output_type": "stream",
     "text": [
      "@@@@@@@\n",
      "@@@@@@@\n"
     ]
    }
   ],
   "source": [
    "#create a for loop to make two rows of seven \"@\"\n",
    "\n",
    "for row in range(2):\n",
    "    for column in range(7):\n",
    "        print( '@', end='')\n",
    "    print()"
   ]
  },
  {
   "cell_type": "code",
   "execution_count": null,
   "id": "c3426085",
   "metadata": {},
   "outputs": [],
   "source": []
  }
 ],
 "metadata": {
  "kernelspec": {
   "display_name": "Python 3 (ipykernel)",
   "language": "python",
   "name": "python3"
  },
  "language_info": {
   "codemirror_mode": {
    "name": "ipython",
    "version": 3
   },
   "file_extension": ".py",
   "mimetype": "text/x-python",
   "name": "python",
   "nbconvert_exporter": "python",
   "pygments_lexer": "ipython3",
   "version": "3.9.7"
  }
 },
 "nbformat": 4,
 "nbformat_minor": 5
}
