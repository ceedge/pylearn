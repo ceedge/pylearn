{
 "cells": [
  {
   "cell_type": "markdown",
   "id": "0bfee0a0",
   "metadata": {},
   "source": [
    "# Exercise 3.10"
   ]
  },
  {
   "cell_type": "markdown",
   "id": "1757738c",
   "metadata": {},
   "source": [
    "(7% Investment Return) Reimplement Exercise 2.12 to use a loop that calculates  and displays the amount of money you’ll have each year at the ends of years 1 through 30. \n",
    "\n",
    " "
   ]
  },
  {
   "cell_type": "code",
   "execution_count": 26,
   "id": "6b3cb14f",
   "metadata": {},
   "outputs": [
    {
     "name": "stdout",
     "output_type": "stream",
     "text": [
      "$ 1070 is the amount of money on deposit after 1 years\n",
      "$ 1144 is the amount of money on deposit after 2 years\n",
      "$ 1225 is the amount of money on deposit after 3 years\n",
      "$ 1310 is the amount of money on deposit after 4 years\n",
      "$ 1402 is the amount of money on deposit after 5 years\n",
      "$ 1500 is the amount of money on deposit after 6 years\n",
      "$ 1605 is the amount of money on deposit after 7 years\n",
      "$ 1718 is the amount of money on deposit after 8 years\n",
      "$ 1838 is the amount of money on deposit after 9 years\n",
      "$ 1967 is the amount of money on deposit after 10 years\n",
      "$ 2104 is the amount of money on deposit after 11 years\n",
      "$ 2252 is the amount of money on deposit after 12 years\n",
      "$ 2409 is the amount of money on deposit after 13 years\n",
      "$ 2578 is the amount of money on deposit after 14 years\n",
      "$ 2759 is the amount of money on deposit after 15 years\n",
      "$ 2952 is the amount of money on deposit after 16 years\n",
      "$ 3158 is the amount of money on deposit after 17 years\n",
      "$ 3379 is the amount of money on deposit after 18 years\n",
      "$ 3616 is the amount of money on deposit after 19 years\n",
      "$ 3869 is the amount of money on deposit after 20 years\n",
      "$ 4140 is the amount of money on deposit after 21 years\n",
      "$ 4430 is the amount of money on deposit after 22 years\n",
      "$ 4740 is the amount of money on deposit after 23 years\n",
      "$ 5072 is the amount of money on deposit after 24 years\n",
      "$ 5427 is the amount of money on deposit after 25 years\n",
      "$ 5807 is the amount of money on deposit after 26 years\n",
      "$ 6213 is the amount of money on deposit after 27 years\n",
      "$ 6648 is the amount of money on deposit after 28 years\n",
      "$ 7114 is the amount of money on deposit after 29 years\n",
      "$ 7612 is the amount of money on deposit after 30 years\n"
     ]
    }
   ],
   "source": [
    "p=1000\n",
    "r=.07\n",
    "t=0\n",
    "n=[]\n",
    "i=0\n",
    "# loop that will go through all 30 years.\n",
    "for b in range(30):\n",
    "    t=1+t\n",
    "    n.append(t)\n",
    "    a=int(p*(1+r)**n[i])\n",
    "    print( '$',a,'is the amount of money on deposit after',n[i],'years')\n",
    "    if n[i]==30:\n",
    "        break\n",
    "    else:\n",
    "        i=1+i"
   ]
  },
  {
   "cell_type": "code",
   "execution_count": null,
   "id": "cfd1365f",
   "metadata": {},
   "outputs": [],
   "source": []
  }
 ],
 "metadata": {
  "kernelspec": {
   "display_name": "Python 3 (ipykernel)",
   "language": "python",
   "name": "python3"
  },
  "language_info": {
   "codemirror_mode": {
    "name": "ipython",
    "version": 3
   },
   "file_extension": ".py",
   "mimetype": "text/x-python",
   "name": "python",
   "nbconvert_exporter": "python",
   "pygments_lexer": "ipython3",
   "version": "3.9.7"
  }
 },
 "nbformat": 4,
 "nbformat_minor": 5
}
