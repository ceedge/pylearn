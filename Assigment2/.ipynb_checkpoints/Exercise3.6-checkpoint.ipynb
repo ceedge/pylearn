{
 "cells": [
  {
   "cell_type": "markdown",
   "id": "45efaf3b",
   "metadata": {},
   "source": [
    "# Exercise 3.6"
   ]
  },
  {
   "cell_type": "markdown",
   "id": "f27339de",
   "metadata": {},
   "source": [
    "(Turing Test) The great British mathematician Alan Turing proposed a simple test  to determine whether machines could exhibit intelligent behavior. A user sits at a computer and does the same text chat with a human sitting at a computer and a computer operating by itself. The user doesn’t know if the responses are coming back from the human  or the independent computer. If the user can’t distinguish which responses are coming  from the human and which are coming from the computer, then it’s reasonable to say that  the computer is exhibiting intelligence.  Create a script that plays the part of the independent computer, giving its user a simple medical diagnosis. The script should prompt the user with 'What is your problem?'  When the user answers and presses Enter, the script should simply ignore the user’s input,  then prompt the user again with 'Have you had this problem before (yes or no)?' If  the user enters 'yes', print 'Well, you have it again.' If the user answers 'no', print  'Well, you have it now.'  Would this conversation convince the user that the entity at the other end exhibited  intelligent behavior? Why or why not? \n",
    "\n"
   ]
  },
  {
   "cell_type": "code",
   "execution_count": 3,
   "id": "ac75c52d",
   "metadata": {},
   "outputs": [
    {
     "name": "stdout",
     "output_type": "stream",
     "text": [
      "What is your problem? cold\n",
      "Have you had this problem before (yes or no)?  yes\n",
      "Will, you have it again\n"
     ]
    }
   ],
   "source": [
    "question= input('What is your problem? ')\n",
    "#ASK THE YES/ NO QUESTION.\n",
    "\n",
    "yn=input('Have you had this problem before (yes or no)?  ').lower()\n",
    "#if statment depending what the person selected\n",
    "if yn== 'yes':\n",
    "    print('Will, you have it again')\n",
    "if yn== 'no':\n",
    "    print('Well, you have it now')"
   ]
  },
  {
   "cell_type": "markdown",
   "id": "a492d4ca",
   "metadata": {},
   "source": [
    "Would this conversation convince the user that the entity at the other end exhibited  intelligent behavior? Why or why not? \n",
    "\n",
    "no, it will not convince the user because if you do the input again you will get the same exact answer, whereas humans do not normally answer the same way twice."
   ]
  }
 ],
 "metadata": {
  "kernelspec": {
   "display_name": "Python 3 (ipykernel)",
   "language": "python",
   "name": "python3"
  },
  "language_info": {
   "codemirror_mode": {
    "name": "ipython",
    "version": 3
   },
   "file_extension": ".py",
   "mimetype": "text/x-python",
   "name": "python",
   "nbconvert_exporter": "python",
   "pygments_lexer": "ipython3",
   "version": "3.9.7"
  }
 },
 "nbformat": 4,
 "nbformat_minor": 5
}
