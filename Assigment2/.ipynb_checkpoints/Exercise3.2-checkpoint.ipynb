{
 "cells": [
  {
   "cell_type": "markdown",
   "id": "0aead4f3",
   "metadata": {},
   "source": [
    "# Exercise 3.2"
   ]
  },
  {
   "cell_type": "markdown",
   "id": "cc60f1a2",
   "metadata": {},
   "source": [
    "(What’s Wrong with This Code?) What is wrong with the following code? \n",
    "\n",
    "a = b = 7  \n",
    "\n",
    "print('a =', a, '\\nb =', b) \n"
   ]
  },
  {
   "cell_type": "code",
   "execution_count": 2,
   "id": "81d29485",
   "metadata": {},
   "outputs": [
    {
     "name": "stdout",
     "output_type": "stream",
     "text": [
      "a = 7 \n",
      "b = 7\n"
     ]
    }
   ],
   "source": [
    "a=b=7\n",
    "\n",
    "print('a =', a, '\\nb =', b) "
   ]
  },
  {
   "cell_type": "markdown",
   "id": "4c44f9cf",
   "metadata": {},
   "source": [
    "There is nothing wrong with the code because bothvariables come back with seven. But you do not want to have one variable hardcoded to another variable because later it can be hard to change,due to length of code."
   ]
  }
 ],
 "metadata": {
  "kernelspec": {
   "display_name": "Python 3 (ipykernel)",
   "language": "python",
   "name": "python3"
  },
  "language_info": {
   "codemirror_mode": {
    "name": "ipython",
    "version": 3
   },
   "file_extension": ".py",
   "mimetype": "text/x-python",
   "name": "python",
   "nbconvert_exporter": "python",
   "pygments_lexer": "ipython3",
   "version": "3.9.7"
  }
 },
 "nbformat": 4,
 "nbformat_minor": 5
}
