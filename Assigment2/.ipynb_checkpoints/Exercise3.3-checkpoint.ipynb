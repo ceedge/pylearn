{
 "cells": [
  {
   "cell_type": "markdown",
   "id": "af139176",
   "metadata": {},
   "source": [
    "# Exercise 3.3"
   ]
  },
  {
   "cell_type": "markdown",
   "id": "b5f8b3b4",
   "metadata": {},
   "source": [
    "(What Does This Code Do?) What does the following program print?  for row in range(10):  for column in range(10):  print('<' if row% 2 == 1 else '>', end='')  print() \n",
    "\n"
   ]
  },
  {
   "cell_type": "code",
   "execution_count": 4,
   "id": "f6736115",
   "metadata": {},
   "outputs": [
    {
     "name": "stdout",
     "output_type": "stream",
     "text": [
      ">>>>>>>>>>\n",
      "<<<<<<<<<<\n",
      ">>>>>>>>>>\n",
      "<<<<<<<<<<\n",
      ">>>>>>>>>>\n",
      "<<<<<<<<<<\n",
      ">>>>>>>>>>\n",
      "<<<<<<<<<<\n",
      ">>>>>>>>>>\n",
      "<<<<<<<<<<\n"
     ]
    }
   ],
   "source": [
    "for row in range(10):  \n",
    "    for column in range(10):  \n",
    "        print('<' if row% 2 == 1 else '>', end='') \n",
    "    print() \n"
   ]
  },
  {
   "cell_type": "markdown",
   "id": "c07025aa",
   "metadata": {},
   "source": [
    "the code is doing 10 rose and 10 columns for every odd row it makes 10 '>' and for every even row it makes 10 '<' in a line. "
   ]
  }
 ],
 "metadata": {
  "kernelspec": {
   "display_name": "Python 3 (ipykernel)",
   "language": "python",
   "name": "python3"
  },
  "language_info": {
   "codemirror_mode": {
    "name": "ipython",
    "version": 3
   },
   "file_extension": ".py",
   "mimetype": "text/x-python",
   "name": "python",
   "nbconvert_exporter": "python",
   "pygments_lexer": "ipython3",
   "version": "3.9.7"
  }
 },
 "nbformat": 4,
 "nbformat_minor": 5
}
