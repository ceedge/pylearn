{
 "cells": [
  {
   "cell_type": "markdown",
   "id": "50b59203",
   "metadata": {},
   "source": [
    "# Exercise 3.9"
   ]
  },
  {
   "cell_type": "markdown",
   "id": "0ebee240",
   "metadata": {},
   "source": [
    "(Separating the Digits in an Integer) In Exercise 2.11, you wrote a script that separated a five-digit integer into its individual digits and displayed them. Reimplement your  script to use a loop that in each iteration “picks off” one digit (left to right) using the//  and% operators, then displays that digit.   "
   ]
  },
  {
   "cell_type": "code",
   "execution_count": 96,
   "id": "3f06ce96",
   "metadata": {},
   "outputs": [
    {
     "name": "stdout",
     "output_type": "stream",
     "text": [
      "Enter an integer 5 digit: 12345\n",
      "1   2   3   4   5\n",
      "\n",
      "\n",
      "5 1234\n",
      "4 123\n",
      "3 12\n",
      "2 1\n",
      "1 0\n",
      "\n",
      "\n",
      "1 1\n",
      "2 12\n",
      "3 123\n",
      "4 1234\n",
      "5 12345\n"
     ]
    }
   ],
   "source": [
    "rev=0\n",
    "back=0\n",
    "result=''\n",
    "\n",
    "\n",
    "while True:\n",
    "    dig= input('Enter an integer 5 digit: ')\n",
    "    if dig.isnumeric():\n",
    "        if len(dig) == 5 :\n",
    "            break\n",
    "space=\"   \".join(dig)\n",
    "dig=int(\"\".join(dig))\n",
    "\n",
    "num=dig\n",
    "\n",
    "print(space)    \n",
    "\n",
    "print('\\n')\n",
    "\n",
    "## pick off a number from left to right\n",
    "\n",
    "while dig !=0:\n",
    "    print(dig%10 ,end=' ')\n",
    "    dig=dig//10\n",
    "    print(dig)\n",
    "\n",
    "## add it back for fun \n",
    "while num!=0:\n",
    "    t= num%10\n",
    "    rev=rev*10 +t\n",
    "    num//=10\n",
    "   \n",
    "print('\\n')\n",
    "\n",
    "while rev!=0:\n",
    "    print(rev%10, end=' ')\n",
    "    back=back*10 +(rev%10)\n",
    "    rev//=10\n",
    "    print(back)"
   ]
  },
  {
   "cell_type": "code",
   "execution_count": null,
   "id": "6b8758f5",
   "metadata": {},
   "outputs": [],
   "source": []
  },
  {
   "cell_type": "code",
   "execution_count": null,
   "id": "00baf950",
   "metadata": {},
   "outputs": [],
   "source": []
  }
 ],
 "metadata": {
  "kernelspec": {
   "display_name": "Python 3 (ipykernel)",
   "language": "python",
   "name": "python3"
  },
  "language_info": {
   "codemirror_mode": {
    "name": "ipython",
    "version": 3
   },
   "file_extension": ".py",
   "mimetype": "text/x-python",
   "name": "python",
   "nbconvert_exporter": "python",
   "pygments_lexer": "ipython3",
   "version": "3.9.7"
  }
 },
 "nbformat": 4,
 "nbformat_minor": 5
}
