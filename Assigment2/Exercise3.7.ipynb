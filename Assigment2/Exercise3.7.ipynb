{
 "cells": [
  {
   "cell_type": "markdown",
   "id": "a8eb6e00",
   "metadata": {},
   "source": [
    "# Exercise 3.7"
   ]
  },
  {
   "cell_type": "markdown",
   "id": "37b4a65d",
   "metadata": {},
   "source": [
    "(Table of Squares and Cubes) In Exercise 2.8, you wrote a script to calculate the  squares and cubes of the numbers from 0 through 5, then printed the resulting values in  table format. Reimplement your script using a for loop and the f-string capabilities you  learned in this chapter to produce the following table with the numbers right aligned in  each column. \n",
    "\n"
   ]
  },
  {
   "cell_type": "code",
   "execution_count": 19,
   "id": "0f9bf7a6",
   "metadata": {},
   "outputs": [
    {
     "name": "stdout",
     "output_type": "stream",
     "text": [
      "number \t square \t cube\n",
      "----- \t ------ \t ----\n",
      "     0\t      0\t\t    0\n",
      "     1\t      1\t\t    1\n",
      "     2\t      4\t\t    8\n",
      "     3\t      9\t\t   27\n",
      "     4\t     16\t\t   64\n",
      "     5\t     25\t\t  125\n"
     ]
    }
   ],
   "source": [
    "print('number','\\t','square','\\t','cube')\n",
    "print('-----','\\t','------','\\t','----')\n",
    "\n",
    "#create for loop with the f string \n",
    "for x in range(6):\n",
    "    print(f'{x:>6}\\t {x**2:>6}\\t\\t{x**3:>5}')"
   ]
  },
  {
   "cell_type": "code",
   "execution_count": null,
   "id": "99a4a864",
   "metadata": {},
   "outputs": [],
   "source": []
  }
 ],
 "metadata": {
  "kernelspec": {
   "display_name": "Python 3 (ipykernel)",
   "language": "python",
   "name": "python3"
  },
  "language_info": {
   "codemirror_mode": {
    "name": "ipython",
    "version": 3
   },
   "file_extension": ".py",
   "mimetype": "text/x-python",
   "name": "python",
   "nbconvert_exporter": "python",
   "pygments_lexer": "ipython3",
   "version": "3.9.7"
  }
 },
 "nbformat": 4,
 "nbformat_minor": 5
}
