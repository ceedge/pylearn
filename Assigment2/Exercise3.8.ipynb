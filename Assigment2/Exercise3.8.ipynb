{
 "cells": [
  {
   "cell_type": "markdown",
   "id": "09d49931",
   "metadata": {},
   "source": [
    "# Exercise 3.8"
   ]
  },
  {
   "cell_type": "markdown",
   "id": "791d6b4f",
   "metadata": {},
   "source": [
    "(Arithmetic, Smallest and Largest) In Exercise 2.10, you wrote a script that input  three integers, then displayed the sum, average, product, smallest and largest of those values. Reimplement your script with a loop that inputs four integers.  "
   ]
  },
  {
   "cell_type": "code",
   "execution_count": 69,
   "id": "52dc8f67",
   "metadata": {},
   "outputs": [
    {
     "name": "stdout",
     "output_type": "stream",
     "text": [
      "Enter an integer: 5454\n",
      "Enter the 2nd integer: 65566\n",
      "Enter the 3rd integer: 555\n",
      "Enter the 4th interger: 55\n",
      "Sum of the numbers: 71630\n",
      "Average of the  numbers: 17907.5\n",
      "Product of the  numbers: 10915647326100\n",
      "smallest number of the numbers: 55\n",
      "largest number of the numbers: 65566\n"
     ]
    }
   ],
   "source": [
    "\n",
    "from statistics import mean\n",
    "from math import prod\n",
    "\n",
    "# create a loop with four inputs\n",
    "while True:\n",
    "    FirstNumber= input('Enter an integer: ' )\n",
    "    if FirstNumber.isnumeric():\n",
    "        FirstNumber=int(FirstNumber)\n",
    "        SecoundNumber= input('Enter the 2nd integer: ' )\n",
    "        while SecoundNumber.isalpha():\n",
    "            SecoundNumber= input('Enter the 2nd integer: ' )\n",
    "        else:\n",
    "            if SecoundNumber.isnumeric():\n",
    "                SecoundNumber=int(SecoundNumber)\n",
    "                ThridNumber= input('Enter the 3rd integer: ' )\n",
    "                while ThridNumber.isalpha():\n",
    "                    ThridNumber= input('Enter the 3rd integer: ' )\n",
    "                else:\n",
    "                    if ThridNumber.isnumeric():\n",
    "                        ThridNumber=int(ThridNumber)\n",
    "                        FourNumber= input('Enter the 4th interger: ')\n",
    "                        if FourNumber.isnumeric():\n",
    "                            FourNumber=int(FourNumber)\n",
    "                            break \n",
    "                        while  FourNumber.isalpha():\n",
    "                            FourNumber= input('Enter the 4th interger: ')\n",
    "                        else:\n",
    "                            break\n",
    "\n",
    "listed=[FirstNumber,SecoundNumber,ThridNumber,FourNumber]\n",
    "\n",
    "# create  variables that bring back  sum, average, product, smallest and largest values\n",
    "sumlst=sum(listed)\n",
    "meanlst=mean(listed)\n",
    "minlst=min(listed)\n",
    "maxlst=max(listed)\n",
    "prolst=prod(listed)\n",
    "print('Sum of the numbers:',sumlst)\n",
    "print('Average of the  numbers:',meanlst)\n",
    "print('Product of the  numbers:',prolst)\n",
    "print('smallest number of the numbers:',minlst)\n",
    "print('largest number of the numbers:',maxlst)"
   ]
  },
  {
   "cell_type": "code",
   "execution_count": null,
   "id": "4a29bd7c",
   "metadata": {},
   "outputs": [],
   "source": []
  },
  {
   "cell_type": "code",
   "execution_count": null,
   "id": "82293504",
   "metadata": {},
   "outputs": [],
   "source": []
  },
  {
   "cell_type": "code",
   "execution_count": null,
   "id": "30dcf509",
   "metadata": {},
   "outputs": [],
   "source": []
  }
 ],
 "metadata": {
  "kernelspec": {
   "display_name": "Python 3 (ipykernel)",
   "language": "python",
   "name": "python3"
  },
  "language_info": {
   "codemirror_mode": {
    "name": "ipython",
    "version": 3
   },
   "file_extension": ".py",
   "mimetype": "text/x-python",
   "name": "python",
   "nbconvert_exporter": "python",
   "pygments_lexer": "ipython3",
   "version": "3.9.7"
  }
 },
 "nbformat": 4,
 "nbformat_minor": 5
}
