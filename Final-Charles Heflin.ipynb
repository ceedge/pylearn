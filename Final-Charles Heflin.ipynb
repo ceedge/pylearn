{
 "cells": [
  {
   "cell_type": "code",
   "execution_count": 77,
   "id": "b2f04a85",
   "metadata": {
    "scrolled": true
   },
   "outputs": [
    {
     "name": "stdout",
     "output_type": "stream",
     "text": [
      "Enter students 10 \n",
      "\n",
      "Enter student's name1: cj\n",
      "Enter grade for assignment   1: 77\n",
      "Enter grade for assignment   2: 77\n",
      "Enter grade for assignment   3: 55\n",
      "Enter grade for assignment   4: 77\n",
      "Enter grade for midterm : 88\n",
      "Enter grade for final: 88\n",
      "Enter grade for attendance: 99\n",
      "\n",
      "Enter student's name2: Edna Mode\n",
      "Enter grade for assignment   1: 66\n",
      "Enter grade for assignment   2: 88\n",
      "Enter grade for assignment   3: 78\n",
      "Enter grade for assignment   4: 55\n",
      "Enter grade for midterm : 78\n",
      "Enter grade for final: 99\n",
      "Enter grade for attendance: 54\n",
      "Course Grade for cj is 79.2 , which is equivalent to C\n",
      "Course Grade for Edna Mode is 76.0 , which is equivalent to C\n",
      "--------------------------------------------------------------------------------------------------------------\n",
      "| Student Name | Assignments 1 – 4 | Midterm    | Final      | Class Attendance|Course Grade | Letter Grade|\n",
      "--------------------------------------------------------------------------------------------------------------\n",
      "|cj            | 77 77 55 77       | 88         | 88         | 99              |79.2         |C              \n",
      "|Edna Mode     | 66 88 78 55       | 78         | 99         | 54              |76.0         |C              \n",
      "--------------------------------------------------------------------------------------------------------------\n",
      "Class Average   | 77.5\n"
     ]
    }
   ],
   "source": [
    " print(\"Enter students 10 \")\n",
    "studentnumber = 10\n",
    "average_grades=0\n",
    "\n",
    "studentgrades=[]\n",
    "num_records = 0\n",
    "row=[]\n",
    "num_records = 0\n",
    "for i in range(studentnumber):\n",
    "    Name = input(\"\\nEnter student's name\"+str(i+1)+\": \")\n",
    "    Assignment1= int(input(\"Enter grade for assignment   {}: \".format(1)))\n",
    "    Assignment2= int(input(\"Enter grade for assignment   {}: \".format(2)))\n",
    "    Assignment3= int(input(\"Enter grade for assignment   {}: \".format(3)))\n",
    "    Assignment4= int(input(\"Enter grade for assignment   {}: \".format(4)))\n",
    "    Midterm= int(input(\"Enter grade for midterm : \"))\n",
    "    Final = int(input(\"Enter grade for final: \"))\n",
    "    Attendance= int(input(\"Enter grade for attendance: \"))\n",
    "    StudentCourseGrade = round(((Assignment1 + Assignment2 + Assignment3 + Assignment4)*0.15\n",
    "    + (Midterm * 0.1) + (Final * 0.20) + (Attendance * 0.10)),1)\n",
    "    if StudentCourseGrade>90:\n",
    "        LetterGrade='A'\n",
    "    elif StudentCourseGrade>80:\n",
    "        LetterGrade='B'\n",
    "    elif StudentCourseGrade>70:\n",
    "        LetterGrade='C'\n",
    "    elif StudentCourseGrade>65:\n",
    "        LetterGrade='D'\n",
    "    \n",
    "    elif StudentCourseGrade<64.9:\n",
    "        LetterGrade='F'\n",
    "        \n",
    "        \n",
    "        \n",
    "    studentgrades.append([Name,Assignment1,Assignment2,Assignment3,Assignment4,Midterm,Final,Attendance,StudentCourseGrade,LetterGrade])\n",
    "for row in studentgrades:\n",
    "    print(f\"{'Course Grade for'} {row[0]} {'is'} {row[8]} {', which is equivalent to'} {row[9]}\")\n",
    "\n",
    "\n",
    "print(\"-\" * 110)\n",
    "print(f\"|{' Student Name'} | {'Assignments 1 – 4':<5} | {'Midterm':<10} | {'Final ':<10} | {'Class Attendance':<10}|{'Course Grade':<10} | {'Letter Grade'}|\")\n",
    "print(\"-\" * 110)\n",
    "\n",
    "for row in studentgrades:\n",
    "    print(f\"|{row[0]:<14}| {row[1]} {row[2]} {row[3]} {row[4]:<8} | {row[5]:<10} | {row[6]:<10} | {row[7]:<15} |{row[8]:<12} |{row[9]:<14} \")\n",
    "    average_grades += int(row[8])\n",
    "    num_records += 1\n",
    "\n",
    "print(\"-\" * 110)\n",
    "\n",
    "print( f\"{|'Class Average':<15} | {average_grades / num_records}\")\n",
    "    "
   ]
  },
  {
   "cell_type": "code",
   "execution_count": null,
   "id": "b9f3f3df",
   "metadata": {},
   "outputs": [],
   "source": []
  },
  {
   "cell_type": "code",
   "execution_count": null,
   "id": "9b182103",
   "metadata": {},
   "outputs": [],
   "source": []
  }
 ],
 "metadata": {
  "kernelspec": {
   "display_name": "Python 3 (ipykernel)",
   "language": "python",
   "name": "python3"
  },
  "language_info": {
   "codemirror_mode": {
    "name": "ipython",
    "version": 3
   },
   "file_extension": ".py",
   "mimetype": "text/x-python",
   "name": "python",
   "nbconvert_exporter": "python",
   "pygments_lexer": "ipython3",
   "version": "3.9.7"
  }
 },
 "nbformat": 4,
 "nbformat_minor": 5
}
