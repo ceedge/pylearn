{
 "cells": [
  {
   "cell_type": "markdown",
   "id": "caf289ef",
   "metadata": {},
   "source": [
    "# Exercises 2.6"
   ]
  },
  {
   "cell_type": "markdown",
   "id": "cbbcf4d3",
   "metadata": {},
   "source": [
    "(Odd or Even) Use if statements to determine whether an integer is odd or even.  [Hint: Use the remainder operator. An even number is a multiple of 2. Any multiple of 2  leaves a remainder of 0 when divided by 2.] \n",
    "\n"
   ]
  },
  {
   "cell_type": "markdown",
   "id": "5d0633a4",
   "metadata": {},
   "source": [
    "get interger from user"
   ]
  },
  {
   "cell_type": "code",
   "execution_count": 1,
   "id": "fccc8906",
   "metadata": {},
   "outputs": [
    {
     "name": "stdout",
     "output_type": "stream",
     "text": [
      "Enter an integer: 23\n"
     ]
    }
   ],
   "source": [
    "num= int(input( 'Enter an integer: '))"
   ]
  },
  {
   "cell_type": "markdown",
   "id": "923bd97b",
   "metadata": {},
   "source": [
    "determine whether an integer is odd or even."
   ]
  },
  {
   "cell_type": "code",
   "execution_count": 2,
   "id": "374f01e5",
   "metadata": {},
   "outputs": [
    {
     "name": "stdout",
     "output_type": "stream",
     "text": [
      "23 is odd\n"
     ]
    }
   ],
   "source": [
    "if num % 2==0:\n",
    "    print(num, 'is even')\n",
    "else:\n",
    "    print(num, 'is odd')"
   ]
  },
  {
   "cell_type": "code",
   "execution_count": null,
   "id": "8a3cc52d",
   "metadata": {},
   "outputs": [],
   "source": []
  }
 ],
 "metadata": {
  "kernelspec": {
   "display_name": "Python 3 (ipykernel)",
   "language": "python",
   "name": "python3"
  },
  "language_info": {
   "codemirror_mode": {
    "name": "ipython",
    "version": 3
   },
   "file_extension": ".py",
   "mimetype": "text/x-python",
   "name": "python",
   "nbconvert_exporter": "python",
   "pygments_lexer": "ipython3",
   "version": "3.9.7"
  }
 },
 "nbformat": 4,
 "nbformat_minor": 5
}
