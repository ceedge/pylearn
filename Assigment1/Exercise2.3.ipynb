{
 "cells": [
  {
   "cell_type": "markdown",
   "id": "78cf128d",
   "metadata": {},
   "source": [
    "# Exercise 2.3"
   ]
  },
  {
   "cell_type": "markdown",
   "id": "e43bef44",
   "metadata": {},
   "source": [
    "(Fill in the missing code) Replace 3 stars  in the following code with a statement that  will print a message like 'Congratulations! Your grade of 91 earns you an A in this  course'. Your statement should print the value stored in the variable grade:  if grade >= 90:   3 stars\n",
    "\n"
   ]
  },
  {
   "cell_type": "markdown",
   "id": "4c57b511",
   "metadata": {},
   "source": [
    "create the statement with grade grater or equal to 90 saying 'Congratulations! Your grade of 91 earns you an A in this course'"
   ]
  },
  {
   "cell_type": "code",
   "execution_count": 4,
   "id": "14220c83",
   "metadata": {},
   "outputs": [
    {
     "name": "stdout",
     "output_type": "stream",
     "text": [
      "Congratulation! Your grade of 91 earns you an A in this course\n"
     ]
    }
   ],
   "source": [
    "grade=91\n",
    "\n",
    "if grade >=90:\n",
    "    print('Congratulation! Your grade of', grade ,'earns you an A in this course')"
   ]
  }
 ],
 "metadata": {
  "kernelspec": {
   "display_name": "Python 3 (ipykernel)",
   "language": "python",
   "name": "python3"
  },
  "language_info": {
   "codemirror_mode": {
    "name": "ipython",
    "version": 3
   },
   "file_extension": ".py",
   "mimetype": "text/x-python",
   "name": "python",
   "nbconvert_exporter": "python",
   "pygments_lexer": "ipython3",
   "version": "3.9.7"
  }
 },
 "nbformat": 4,
 "nbformat_minor": 5
}
