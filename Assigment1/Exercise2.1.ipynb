{
 "cells": [
  {
   "cell_type": "markdown",
   "id": "e4663a77",
   "metadata": {},
   "source": [
    "# Exercise 2.1"
   ]
  },
  {
   "cell_type": "markdown",
   "id": "c8b019e1",
   "metadata": {},
   "source": [
    "assigning variables X and Y"
   ]
  },
  {
   "cell_type": "code",
   "execution_count": 1,
   "id": "fbaba096",
   "metadata": {},
   "outputs": [],
   "source": [
    "x=2\n",
    "y=3"
   ]
  },
  {
   "cell_type": "markdown",
   "id": "effb4203",
   "metadata": {},
   "source": [
    "creating the 4 statements to desplay their output with using the above variables.  "
   ]
  },
  {
   "cell_type": "code",
   "execution_count": 2,
   "id": "fb502bdc",
   "metadata": {},
   "outputs": [
    {
     "name": "stdout",
     "output_type": "stream",
     "text": [
      "x= 2\n"
     ]
    }
   ],
   "source": [
    "print('x=',x)"
   ]
  },
  {
   "cell_type": "code",
   "execution_count": 3,
   "id": "45437a35",
   "metadata": {},
   "outputs": [
    {
     "name": "stdout",
     "output_type": "stream",
     "text": [
      "Value of 2 + 2 is 4\n"
     ]
    }
   ],
   "source": [
    "print('Value of', x ,'+', x, 'is', (x+x))"
   ]
  },
  {
   "cell_type": "code",
   "execution_count": 4,
   "id": "a952b2f4",
   "metadata": {},
   "outputs": [
    {
     "name": "stdout",
     "output_type": "stream",
     "text": [
      "x=\n"
     ]
    }
   ],
   "source": [
    "print('x=')"
   ]
  },
  {
   "cell_type": "code",
   "execution_count": 5,
   "id": "62ccdc93",
   "metadata": {},
   "outputs": [
    {
     "name": "stdout",
     "output_type": "stream",
     "text": [
      "5 = 5\n"
     ]
    }
   ],
   "source": [
    "print((x+y), '=',(y+x))"
   ]
  },
  {
   "cell_type": "code",
   "execution_count": null,
   "id": "73b5925d",
   "metadata": {},
   "outputs": [],
   "source": []
  }
 ],
 "metadata": {
  "kernelspec": {
   "display_name": "Python 3 (ipykernel)",
   "language": "python",
   "name": "python3"
  },
  "language_info": {
   "codemirror_mode": {
    "name": "ipython",
    "version": 3
   },
   "file_extension": ".py",
   "mimetype": "text/x-python",
   "name": "python",
   "nbconvert_exporter": "python",
   "pygments_lexer": "ipython3",
   "version": "3.9.7"
  }
 },
 "nbformat": 4,
 "nbformat_minor": 5
}
