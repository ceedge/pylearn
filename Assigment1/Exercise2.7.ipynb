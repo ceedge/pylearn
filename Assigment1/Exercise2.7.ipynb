{
 "cells": [
  {
   "cell_type": "markdown",
   "id": "8510fdf9",
   "metadata": {},
   "source": [
    "# Exercises 2.7"
   ]
  },
  {
   "cell_type": "markdown",
   "id": "6cfa77b6",
   "metadata": {},
   "source": [
    "(Multiples) Use if statements to determine whether 1024 is a multiple of 4 and  whether 2 is a multiple of 10. (Hint: Use the remainder operator.)  "
   ]
  },
  {
   "cell_type": "code",
   "execution_count": 1,
   "id": "b1960eda",
   "metadata": {},
   "outputs": [
    {
     "name": "stdout",
     "output_type": "stream",
     "text": [
      "1024  is a multiple of  4\n",
      "2 is not a multiple of 10\n"
     ]
    }
   ],
   "source": [
    "x=[1024, 2]\n",
    "y=[4, 10]\n",
    "\n",
    "if  max(x)%min(y)==0:\n",
    "    print(max(x), ' is a multiple of ',min(y))\n",
    "else:\n",
    "    print(max(x),'is not a multiple of',min(y))\n",
    "if min(x)% max(y)==0:\n",
    "          print(min(x), ' is a multiple of ',max(y))\n",
    "else:\n",
    "            print(min(x),'is not a multiple of',max(y))"
   ]
  },
  {
   "cell_type": "code",
   "execution_count": null,
   "id": "2c9fc632",
   "metadata": {},
   "outputs": [],
   "source": []
  }
 ],
 "metadata": {
  "kernelspec": {
   "display_name": "Python 3 (ipykernel)",
   "language": "python",
   "name": "python3"
  },
  "language_info": {
   "codemirror_mode": {
    "name": "ipython",
    "version": 3
   },
   "file_extension": ".py",
   "mimetype": "text/x-python",
   "name": "python",
   "nbconvert_exporter": "python",
   "pygments_lexer": "ipython3",
   "version": "3.9.7"
  }
 },
 "nbformat": 4,
 "nbformat_minor": 5
}
