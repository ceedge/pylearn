{
 "cells": [
  {
   "cell_type": "markdown",
   "id": "ffcc69b4",
   "metadata": {},
   "source": [
    "# Exercise 2.2 "
   ]
  },
  {
   "cell_type": "markdown",
   "id": "ee2b0eb0",
   "metadata": {},
   "source": [
    "Creating variable called rating that take an input of an integer that is between 1 and 10."
   ]
  },
  {
   "cell_type": "markdown",
   "id": "9663cd62",
   "metadata": {},
   "source": [
    "get integer between 1 and 10 from user"
   ]
  },
  {
   "cell_type": "code",
   "execution_count": 1,
   "id": "97522243",
   "metadata": {},
   "outputs": [
    {
     "name": "stdout",
     "output_type": "stream",
     "text": [
      "Enter an integer rating between 1 and 10 : aa\n",
      "Enter an integer rating between 1 and 10 : 13\n",
      "Enter an integer rating between 1 and 10 : 11\n",
      "Enter an integer rating between 1 and 10 : 10\n"
     ]
    }
   ],
   "source": [
    "\n",
    "\n",
    "while True:\n",
    "    rating= input('Enter an integer rating between 1 and 10 : ')\n",
    "    if rating.isnumeric():\n",
    "        rating=int(rating)\n",
    "        if rating in range (1,11):\n",
    "            break\n",
    "    \n",
    "        \n",
    "    "
   ]
  },
  {
   "cell_type": "markdown",
   "id": "b066984f",
   "metadata": {},
   "source": [
    "print the rating the user enter"
   ]
  },
  {
   "cell_type": "code",
   "execution_count": 2,
   "id": "afa37f84",
   "metadata": {},
   "outputs": [
    {
     "name": "stdout",
     "output_type": "stream",
     "text": [
      "you have selected rating: 10\n"
     ]
    }
   ],
   "source": [
    "\n",
    "    print('you have selected rating:',rating)"
   ]
  }
 ],
 "metadata": {
  "kernelspec": {
   "display_name": "Python 3 (ipykernel)",
   "language": "python",
   "name": "python3"
  },
  "language_info": {
   "codemirror_mode": {
    "name": "ipython",
    "version": 3
   },
   "file_extension": ".py",
   "mimetype": "text/x-python",
   "name": "python",
   "nbconvert_exporter": "python",
   "pygments_lexer": "ipython3",
   "version": "3.9.7"
  }
 },
 "nbformat": 4,
 "nbformat_minor": 5
}
