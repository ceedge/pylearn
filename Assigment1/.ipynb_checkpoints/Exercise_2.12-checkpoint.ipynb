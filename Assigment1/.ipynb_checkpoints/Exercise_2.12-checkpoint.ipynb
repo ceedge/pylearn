{
 "cells": [
  {
   "cell_type": "markdown",
   "id": "1f6099ac",
   "metadata": {},
   "source": [
    "# Exrcises 2.12"
   ]
  },
  {
   "cell_type": "markdown",
   "id": "07c4946e",
   "metadata": {},
   "source": [
    "(7% Investment Return) Some investment advisors say that it’s reasonable to expect a 7% return over the long term in the stock market. Assuming that you begin with  $1000 and leave your money invested, calculate and display how much money you’ll have  after 10, 20 and 30 years. Use the following formula for determining these amounts:  a = p(1 + r) n \n",
    "\n",
    "p is the original amount invested (i.e., the principal of $1000),  r is the annual rate of return (7%),  n is the number of years (10, 20 or 30) and  a is the amount on deposit at the end of the nth year. \n",
    "\n"
   ]
  },
  {
   "cell_type": "code",
   "execution_count": 2,
   "id": "30f76335",
   "metadata": {},
   "outputs": [
    {
     "name": "stdout",
     "output_type": "stream",
     "text": [
      "$ 1967 is the amount of money on deposit after 10 years\n",
      "$ 3869 is the amount of money on deposit after 20 years\n",
      "$ 7612 is the amount of money on deposit after 30 years\n"
     ]
    }
   ],
   "source": [
    "p=1000\n",
    "r=.07\n",
    "n=[10,20,30]\n",
    "i=0\n",
    "while n[i]<=30:\n",
    "    a=int(p*(1+r)**n[i])\n",
    "    print( '$',a,'is the amount of money on deposit after',n[i],'years')\n",
    "    if n[i]==30:\n",
    "        break\n",
    "    else:\n",
    "        i=1+i\n"
   ]
  },
  {
   "cell_type": "code",
   "execution_count": null,
   "id": "ff6b4c34",
   "metadata": {},
   "outputs": [],
   "source": []
  }
 ],
 "metadata": {
  "kernelspec": {
   "display_name": "Python 3 (ipykernel)",
   "language": "python",
   "name": "python3"
  },
  "language_info": {
   "codemirror_mode": {
    "name": "ipython",
    "version": 3
   },
   "file_extension": ".py",
   "mimetype": "text/x-python",
   "name": "python",
   "nbconvert_exporter": "python",
   "pygments_lexer": "ipython3",
   "version": "3.9.7"
  }
 },
 "nbformat": 4,
 "nbformat_minor": 5
}
