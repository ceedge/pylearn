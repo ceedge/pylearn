{
 "cells": [
  {
   "cell_type": "markdown",
   "id": "5d459119",
   "metadata": {},
   "source": [
    "# Exercise 2.10"
   ]
  },
  {
   "cell_type": "markdown",
   "id": "908a429f",
   "metadata": {},
   "source": [
    "(Arithmetic, Smallest and Largest) Write a script that inputs three integers from  the user. Display the sum, average, product, smallest and largest of the numbers. Note that  each of these is a reduction in functional-style programming. \n",
    "\n"
   ]
  },
  {
   "cell_type": "code",
   "execution_count": 43,
   "id": "bc6b3f85",
   "metadata": {},
   "outputs": [
    {
     "name": "stdout",
     "output_type": "stream",
     "text": [
      "Enter an integer: 11\n",
      "Enter the 2nd integer: 22\n",
      "Enter the 3nd integer: 44\n"
     ]
    }
   ],
   "source": [
    "from statistics import mean\n",
    "from math import prod\n",
    "\n",
    "while True:\n",
    "    FirstNumber= input('Enter an integer: ' )\n",
    "    if FirstNumber.isnumeric():\n",
    "        FirstNumber=int(FirstNumber)\n",
    "        break\n",
    "        \n",
    "while True:\n",
    "    SecoundNumber= input('Enter the 2nd integer: ' )\n",
    "    if SecoundNumber.isnumeric():\n",
    "        SecoundNumber=int(SecoundNumber)\n",
    "        break\n",
    "    \n",
    "while True:\n",
    "    ThridNumber= input('Enter the 3nd integer: ' )\n",
    "    if ThridNumber.isnumeric():\n",
    "        ThridNumber=int(ThridNumber)\n",
    "        break   \n",
    "\n",
    "listed=[FirstNumber,SecoundNumber,ThridNumber]"
   ]
  },
  {
   "cell_type": "code",
   "execution_count": 45,
   "id": "835bda7e",
   "metadata": {},
   "outputs": [
    {
     "name": "stdout",
     "output_type": "stream",
     "text": [
      "Sum of the three numbers: 77\n",
      "Average of the three numbers: 25.666666666666668\n",
      "Product of the three numbers: 10648\n",
      "smallest number of the three numbers: 11\n",
      "largest number of the three numbers: 44\n"
     ]
    }
   ],
   "source": [
    "\n",
    "sumlst=sum(listed)\n",
    "meanlst=mean(listed)\n",
    "minlst=min(listed)\n",
    "maxlst=max(listed)\n",
    "prolst=prod(listed)\n",
    "print('Sum of the three numbers:',sumlst)\n",
    "print('Average of the three numbers:',meanlst)\n",
    "print('Product of the three numbers:',prolst)\n",
    "print('smallest number of the three numbers:',minlst)\n",
    "print('largest number of the three numbers:',maxlst)"
   ]
  },
  {
   "cell_type": "code",
   "execution_count": null,
   "id": "35f80720",
   "metadata": {},
   "outputs": [],
   "source": []
  }
 ],
 "metadata": {
  "kernelspec": {
   "display_name": "Python 3 (ipykernel)",
   "language": "python",
   "name": "python3"
  },
  "language_info": {
   "codemirror_mode": {
    "name": "ipython",
    "version": 3
   },
   "file_extension": ".py",
   "mimetype": "text/x-python",
   "name": "python",
   "nbconvert_exporter": "python",
   "pygments_lexer": "ipython3",
   "version": "3.9.7"
  }
 },
 "nbformat": 4,
 "nbformat_minor": 5
}
