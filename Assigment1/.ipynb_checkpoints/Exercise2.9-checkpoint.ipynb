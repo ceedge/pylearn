{
 "cells": [
  {
   "cell_type": "markdown",
   "id": "0820e697",
   "metadata": {},
   "source": [
    "# Exercise 2.9"
   ]
  },
  {
   "cell_type": "markdown",
   "id": "8b6747ed",
   "metadata": {},
   "source": [
    "(Integer Value of a Character) Here’s a peek ahead. In this chapter, you learned  about strings. Each of a string’s characters has an integer representation. The set of characters a computer uses together with the characters’ integer representations is called that  computer’s character set. You can indicate a character value in a program by enclosing that  character in quotes, as in 'A'. To determine a character’s integer value, call the built-in  function ord: \n",
    "Display the integer equivalents of B C D b c d 0 1 2 $* + and the space character.  "
   ]
  },
  {
   "cell_type": "code",
   "execution_count": 10,
   "id": "9894b899",
   "metadata": {},
   "outputs": [
    {
     "name": "stdout",
     "output_type": "stream",
     "text": [
      "B  integer equivalents is 66\n",
      "C  integer equivalents is 67\n",
      "D  integer equivalents is 68\n",
      "b  integer equivalents is 98\n",
      "c  integer equivalents is 99\n",
      "d  integer equivalents is 100\n",
      "0  integer equivalents is 48\n",
      "1  integer equivalents is 49\n",
      "2  integer equivalents is 50\n",
      "$  integer equivalents is 36\n",
      "*  integer equivalents is 42\n",
      "+  integer equivalents is 43\n"
     ]
    }
   ],
   "source": [
    "\n",
    "n=['B','C','D','b','c','d','0','1','2','$','*','+']\n",
    "i=0\n",
    "while i< len(n):\n",
    "    print( n[i],' integer equivalents is', ord(n[i]))\n",
    "    i= 1+i\n",
    "\n"
   ]
  },
  {
   "cell_type": "code",
   "execution_count": null,
   "id": "1a3affcb",
   "metadata": {},
   "outputs": [],
   "source": []
  }
 ],
 "metadata": {
  "kernelspec": {
   "display_name": "Python 3 (ipykernel)",
   "language": "python",
   "name": "python3"
  },
  "language_info": {
   "codemirror_mode": {
    "name": "ipython",
    "version": 3
   },
   "file_extension": ".py",
   "mimetype": "text/x-python",
   "name": "python",
   "nbconvert_exporter": "python",
   "pygments_lexer": "ipython3",
   "version": "3.9.7"
  }
 },
 "nbformat": 4,
 "nbformat_minor": 5
}
