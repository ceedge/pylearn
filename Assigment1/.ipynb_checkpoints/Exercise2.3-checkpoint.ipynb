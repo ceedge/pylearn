{
 "cells": [
  {
   "cell_type": "markdown",
   "id": "78cf128d",
   "metadata": {},
   "source": [
    "# Exercises 2.3"
   ]
  },
  {
   "cell_type": "code",
   "execution_count": 4,
   "id": "14220c83",
   "metadata": {},
   "outputs": [
    {
     "name": "stdout",
     "output_type": "stream",
     "text": [
      "Congratulation! Your grade of 91 earns you an A in this course\n"
     ]
    }
   ],
   "source": [
    "grade=91\n",
    "\n",
    "if grade >=90:\n",
    "    print('Congratulation! Your grade of', grade ,'earns you an A in this course')"
   ]
  },
  {
   "cell_type": "code",
   "execution_count": null,
   "id": "8086e42d",
   "metadata": {},
   "outputs": [],
   "source": []
  },
  {
   "cell_type": "code",
   "execution_count": null,
   "id": "74f9abf1",
   "metadata": {},
   "outputs": [],
   "source": []
  }
 ],
 "metadata": {
  "kernelspec": {
   "display_name": "Python 3 (ipykernel)",
   "language": "python",
   "name": "python3"
  },
  "language_info": {
   "codemirror_mode": {
    "name": "ipython",
    "version": 3
   },
   "file_extension": ".py",
   "mimetype": "text/x-python",
   "name": "python",
   "nbconvert_exporter": "python",
   "pygments_lexer": "ipython3",
   "version": "3.9.7"
  }
 },
 "nbformat": 4,
 "nbformat_minor": 5
}
