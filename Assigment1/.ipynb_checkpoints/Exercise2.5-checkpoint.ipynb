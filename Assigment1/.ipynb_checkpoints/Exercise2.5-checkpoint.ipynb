{
 "cells": [
  {
   "cell_type": "markdown",
   "id": "5d1e88e5",
   "metadata": {},
   "source": [
    "# Exercises 2.5"
   ]
  },
  {
   "cell_type": "markdown",
   "id": "d6da76f5",
   "metadata": {},
   "source": [
    "(Circle Area, Diameter and Circumference) For a circle of radius 2, display the diameter, circumference and area. Use the value 3.14159 for π. Use the following formulas  (r is the radius): diameter = 2r, circumference = 2πr and area = πr2. [In a later chapter, we’ll  introduce Python’s math module which contains a higher-precision representation of π.] \n",
    "\n"
   ]
  },
  {
   "cell_type": "code",
   "execution_count": 1,
   "id": "bbb28c6f",
   "metadata": {},
   "outputs": [
    {
     "name": "stdout",
     "output_type": "stream",
     "text": [
      "4\n"
     ]
    }
   ],
   "source": [
    "diameter = 2*2\n",
    "print(diameter)"
   ]
  },
  {
   "cell_type": "code",
   "execution_count": 4,
   "id": "348e0127",
   "metadata": {},
   "outputs": [
    {
     "name": "stdout",
     "output_type": "stream",
     "text": [
      "12.56636\n"
     ]
    }
   ],
   "source": [
    "circumference = 2*3.14159*2\n",
    "\n",
    "print(circumference)"
   ]
  },
  {
   "cell_type": "code",
   "execution_count": 6,
   "id": "71f150ce",
   "metadata": {},
   "outputs": [
    {
     "name": "stdout",
     "output_type": "stream",
     "text": [
      "12.56636\n"
     ]
    }
   ],
   "source": [
    "area = 3.14159*2*2\n",
    "\n",
    "print(area)\n"
   ]
  },
  {
   "cell_type": "code",
   "execution_count": null,
   "id": "77556129",
   "metadata": {},
   "outputs": [],
   "source": []
  }
 ],
 "metadata": {
  "kernelspec": {
   "display_name": "Python 3 (ipykernel)",
   "language": "python",
   "name": "python3"
  },
  "language_info": {
   "codemirror_mode": {
    "name": "ipython",
    "version": 3
   },
   "file_extension": ".py",
   "mimetype": "text/x-python",
   "name": "python",
   "nbconvert_exporter": "python",
   "pygments_lexer": "ipython3",
   "version": "3.9.7"
  }
 },
 "nbformat": 4,
 "nbformat_minor": 5
}
