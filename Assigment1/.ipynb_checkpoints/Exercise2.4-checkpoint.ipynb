{
 "cells": [
  {
   "cell_type": "markdown",
   "id": "e74a91d5",
   "metadata": {},
   "source": [
    "# Exercises 2.4"
   ]
  },
  {
   "cell_type": "markdown",
   "id": "4bf39b49",
   "metadata": {},
   "source": [
    "(Arithmetic) For each of the arithmetic operators +, -, *,/,// and **, display the  value of an expression with 27.5 as the left operand and 2 as the right\n"
   ]
  },
  {
   "cell_type": "code",
   "execution_count": 1,
   "id": "118a6779",
   "metadata": {},
   "outputs": [
    {
     "data": {
      "text/plain": [
       "29.5"
      ]
     },
     "execution_count": 1,
     "metadata": {},
     "output_type": "execute_result"
    }
   ],
   "source": [
    "27.5 + 2"
   ]
  },
  {
   "cell_type": "code",
   "execution_count": 2,
   "id": "70ac22d8",
   "metadata": {},
   "outputs": [
    {
     "data": {
      "text/plain": [
       "25.5"
      ]
     },
     "execution_count": 2,
     "metadata": {},
     "output_type": "execute_result"
    }
   ],
   "source": [
    "27.5 - 2"
   ]
  },
  {
   "cell_type": "code",
   "execution_count": 3,
   "id": "4830ae55",
   "metadata": {},
   "outputs": [
    {
     "data": {
      "text/plain": [
       "13.75"
      ]
     },
     "execution_count": 3,
     "metadata": {},
     "output_type": "execute_result"
    }
   ],
   "source": [
    "27.5/2"
   ]
  },
  {
   "cell_type": "code",
   "execution_count": 4,
   "id": "8fc0b9f7",
   "metadata": {},
   "outputs": [
    {
     "data": {
      "text/plain": [
       "13.0"
      ]
     },
     "execution_count": 4,
     "metadata": {},
     "output_type": "execute_result"
    }
   ],
   "source": [
    "27.5//2"
   ]
  },
  {
   "cell_type": "code",
   "execution_count": 5,
   "id": "c857d13d",
   "metadata": {},
   "outputs": [
    {
     "data": {
      "text/plain": [
       "756.25"
      ]
     },
     "execution_count": 5,
     "metadata": {},
     "output_type": "execute_result"
    }
   ],
   "source": [
    "27.5**2"
   ]
  }
 ],
 "metadata": {
  "kernelspec": {
   "display_name": "Python 3 (ipykernel)",
   "language": "python",
   "name": "python3"
  },
  "language_info": {
   "codemirror_mode": {
    "name": "ipython",
    "version": 3
   },
   "file_extension": ".py",
   "mimetype": "text/x-python",
   "name": "python",
   "nbconvert_exporter": "python",
   "pygments_lexer": "ipython3",
   "version": "3.9.7"
  }
 },
 "nbformat": 4,
 "nbformat_minor": 5
}
