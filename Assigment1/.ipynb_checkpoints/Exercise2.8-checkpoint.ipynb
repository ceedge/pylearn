{
 "cells": [
  {
   "cell_type": "markdown",
   "id": "cef1ed9f",
   "metadata": {},
   "source": [
    "# Exercises 2.8"
   ]
  },
  {
   "cell_type": "markdown",
   "id": "0066a216",
   "metadata": {},
   "source": [
    " (Table of Squares and Cubes) Write a script that calculates the squares and cubes  of the numbers from 0 to 5. Print the resulting values in table format, as shown below. Use  the tab escape sequence to achieve the three-column output. \n",
    "\n"
   ]
  },
  {
   "cell_type": "code",
   "execution_count": 9,
   "id": "ef0e1431",
   "metadata": {},
   "outputs": [
    {
     "name": "stdout",
     "output_type": "stream",
     "text": [
      "number \t square \t cube\n",
      "----- \t ------ \t ----\n",
      "0 \t 0 \t \t 0\n",
      "1 \t 1 \t \t 1\n",
      "2 \t 4 \t \t 8\n",
      "3 \t 9 \t \t 27\n",
      "4 \t 16 \t \t 64\n",
      "5 \t 25 \t \t 125\n"
     ]
    }
   ],
   "source": [
    "print('number','\\t','square','\\t','cube')\n",
    "print('-----','\\t','------','\\t','----')\n",
    "\n",
    "for x in range(6):\n",
    "    print(x,'\\t',x**2,'\\t','\\t', x**3)"
   ]
  },
  {
   "cell_type": "markdown",
   "id": "1edbce33",
   "metadata": {},
   "source": [
    "right align number"
   ]
  },
  {
   "cell_type": "code",
   "execution_count": 30,
   "id": "c83089f9",
   "metadata": {},
   "outputs": [
    {
     "name": "stdout",
     "output_type": "stream",
     "text": [
      "number \t square \t cube\n",
      "----- \t ------ \t ----\n",
      "     0         0            0\n",
      "     1         1            1\n",
      "     2         4            8\n",
      "     3         9           27\n",
      "     4        16           64\n",
      "     5        25          125\n"
     ]
    }
   ],
   "source": [
    "print('number','\\t','square','\\t','cube')\n",
    "print('-----','\\t','------','\\t','----')\n",
    "\n",
    "for x in range(6):\n",
    "    print(f\"{x:>6} {x**2:>9} {x**3:>12}\")"
   ]
  },
  {
   "cell_type": "code",
   "execution_count": null,
   "id": "65348bb9",
   "metadata": {},
   "outputs": [],
   "source": []
  }
 ],
 "metadata": {
  "kernelspec": {
   "display_name": "Python 3 (ipykernel)",
   "language": "python",
   "name": "python3"
  },
  "language_info": {
   "codemirror_mode": {
    "name": "ipython",
    "version": 3
   },
   "file_extension": ".py",
   "mimetype": "text/x-python",
   "name": "python",
   "nbconvert_exporter": "python",
   "pygments_lexer": "ipython3",
   "version": "3.9.7"
  }
 },
 "nbformat": 4,
 "nbformat_minor": 5
}
