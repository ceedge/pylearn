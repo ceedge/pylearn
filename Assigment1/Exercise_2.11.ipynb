{
 "cells": [
  {
   "cell_type": "markdown",
   "id": "69fe20b3",
   "metadata": {},
   "source": [
    "#  exercise2.11"
   ]
  },
  {
   "cell_type": "markdown",
   "id": "2724d48d",
   "metadata": {},
   "source": [
    "2.11 (Separating the Digits in an Integer) Write a script that inputs a five-digit integer  from the user. Separate the number into its individual digits. Print them separated by three  spaces each. For example, if the user types in the number 42339, the script should print \n"
   ]
  },
  {
   "cell_type": "markdown",
   "id": "123f927e",
   "metadata": {},
   "source": [
    " create the 5 digit input"
   ]
  },
  {
   "cell_type": "code",
   "execution_count": 13,
   "id": "4d513a9f",
   "metadata": {},
   "outputs": [
    {
     "name": "stdout",
     "output_type": "stream",
     "text": [
      "Enter an integer 5 digit: 333\n",
      "Enter an integer 5 digit: 888\n",
      "Enter an integer 5 digit: 444\n",
      "Enter an integer 5 digit: 5555\n",
      "Enter an integer 5 digit: aaaa\n",
      "Enter an integer 5 digit: 6656565\n",
      "Enter an integer 5 digit: 44455\n"
     ]
    }
   ],
   "source": [
    "\n",
    "while True:\n",
    "    dig= input('Enter an integer 5 digit: ')\n",
    "    if dig.isnumeric():\n",
    "        if len(dig) == 5 :\n",
    "            break\n",
    "    "
   ]
  },
  {
   "cell_type": "markdown",
   "id": "882ae369",
   "metadata": {},
   "source": [
    "making 3 spaces in between the digit"
   ]
  },
  {
   "cell_type": "code",
   "execution_count": 17,
   "id": "5b95fb9d",
   "metadata": {},
   "outputs": [
    {
     "name": "stdout",
     "output_type": "stream",
     "text": [
      "4   4   4   5   5\n"
     ]
    }
   ],
   "source": [
    "space=\"   \".join(dig)\n",
    "print(space)"
   ]
  },
  {
   "cell_type": "code",
   "execution_count": null,
   "id": "cf0bf646",
   "metadata": {},
   "outputs": [],
   "source": []
  }
 ],
 "metadata": {
  "kernelspec": {
   "display_name": "Python 3 (ipykernel)",
   "language": "python",
   "name": "python3"
  },
  "language_info": {
   "codemirror_mode": {
    "name": "ipython",
    "version": 3
   },
   "file_extension": ".py",
   "mimetype": "text/x-python",
   "name": "python",
   "nbconvert_exporter": "python",
   "pygments_lexer": "ipython3",
   "version": "3.9.7"
  }
 },
 "nbformat": 4,
 "nbformat_minor": 5
}
