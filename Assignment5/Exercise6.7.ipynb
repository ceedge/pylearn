{
 "cells": [
  {
   "cell_type": "markdown",
   "id": "207b8543",
   "metadata": {},
   "source": [
    "# Exercise 6.7"
   ]
  },
  {
   "cell_type": "markdown",
   "id": "e218448b",
   "metadata": {},
   "source": [
    "(Character Counts) Recall that strings are sequences of characters. Use techniques  similar to Fig. 6.2 to write a script that inputs a sentence from the user, then uses a dictionary to summarize the number of occurrences of each letter. Ignore case, ignore blanks and  assume the user does not enter any punctuation. Display a two-column table of the letters  and their counts with the letters in sorted order. Challenge: Use a set operation to determine which letters of the alphabet were not in the original string.  \n"
   ]
  },
  {
   "cell_type": "code",
   "execution_count": 17,
   "id": "e8b4bdca",
   "metadata": {},
   "outputs": [
    {
     "name": "stdout",
     "output_type": "stream",
     "text": [
      "Please Enter a sentence: hello video  gamers that are cool\n",
      "Letter      Count\n",
      "----        ----\n",
      "a           3\n",
      "c           1\n",
      "d           1\n",
      "e           4\n",
      "g           1\n",
      "h           2\n",
      "i           1\n",
      "l           3\n",
      "m           1\n",
      "o           4\n",
      "r           2\n",
      "s           1\n",
      "t           2\n",
      "v           1\n",
      "letters of the alphabet that were not in the original string: ['b', 'f', 'j', 'k', 'n', 'p', 'q', 'u', 'w', 'x', 'y', 'z']\n"
     ]
    }
   ],
   "source": [
    "txt=input(\"Please Enter a sentence: \").lower()\n",
    "\n",
    "charcont={}\n",
    "\n",
    "\n",
    "for x in txt:\n",
    "    if x !=\" \":\n",
    "        #check if the letter is in the dictionary. if yes move on by 1 \n",
    "        if x in charcont:\n",
    "            charcont[x]+=1\n",
    "        else:\n",
    "            charcont[x]=1  \n",
    "print(f'{\"Letter\":<12}Count')\n",
    "print(f'{\"----\":<12}----')\n",
    "\n",
    "for i,x in sorted(charcont.items()):\n",
    "    print(f'{i:<12}{x}')\n",
    "\n",
    "alph=set('abcdefghijklmnopqrstuvwxyz')\n",
    "\n",
    "nalph=alph.difference(charcont.keys())\n",
    "print('letters of the alphabet that were not in the original string:', sorted(nalph))"
   ]
  },
  {
   "cell_type": "code",
   "execution_count": null,
   "id": "bfc15e61",
   "metadata": {},
   "outputs": [],
   "source": []
  },
  {
   "cell_type": "code",
   "execution_count": null,
   "id": "c5dab35b",
   "metadata": {},
   "outputs": [],
   "source": []
  }
 ],
 "metadata": {
  "kernelspec": {
   "display_name": "Python 3 (ipykernel)",
   "language": "python",
   "name": "python3"
  },
  "language_info": {
   "codemirror_mode": {
    "name": "ipython",
    "version": 3
   },
   "file_extension": ".py",
   "mimetype": "text/x-python",
   "name": "python",
   "nbconvert_exporter": "python",
   "pygments_lexer": "ipython3",
   "version": "3.9.7"
  }
 },
 "nbformat": 4,
 "nbformat_minor": 5
}
