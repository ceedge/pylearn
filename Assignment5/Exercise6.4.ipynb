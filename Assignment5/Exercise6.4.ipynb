{
 "cells": [
  {
   "cell_type": "markdown",
   "id": "defe5e78",
   "metadata": {},
   "source": [
    "# Ecercise 6.4"
   ]
  },
  {
   "cell_type": "markdown",
   "id": "a8c1b2bf",
   "metadata": {},
   "source": [
    "(Fill in the Missing Code) In each of the following expressions, replace the ***s  with a set operator that produces the result shown in the comment. The last operation  should check whether the left operand is an improper subset of the right operand. For each  of the first four expressions, specify the name of the set operation that produces the specified result.\n",
    "\n",
    "\n",
    "a) {1, 2, 4, 8, 16} *** {1, 4, 16, 64, 256} #{1,2,4,8,16,64,256} \n",
    "\n",
    "b) {1, 2, 4, 8, 16} *** {1, 4, 16, 64, 256} #{1,4,16}  \n",
    "\n",
    "c) {1, 2, 4, 8, 16} *** {1, 4, 16, 64, 256} #{2,8}  \n",
    "\n",
    "d) {1, 2, 4, 8, 16} *** {1, 4, 16, 64, 256} #{2,8,64,256}  \n",
    "\n",
    "e) {1, 2, 4, 8, 16} *** {1, 4, 16, 64, 256} #False \n",
    " "
   ]
  },
  {
   "cell_type": "code",
   "execution_count": 7,
   "id": "7d61b402",
   "metadata": {},
   "outputs": [
    {
     "data": {
      "text/plain": [
       "{1, 2, 4, 8, 16, 64, 256}"
      ]
     },
     "execution_count": 7,
     "metadata": {},
     "output_type": "execute_result"
    }
   ],
   "source": [
    "{1, 2, 4, 8, 16} | {1, 4, 16, 64, 256} #{1,2,4,8,16,64,256}"
   ]
  },
  {
   "cell_type": "code",
   "execution_count": 5,
   "id": "daaef6e1",
   "metadata": {},
   "outputs": [
    {
     "data": {
      "text/plain": [
       "{1, 4, 16}"
      ]
     },
     "execution_count": 5,
     "metadata": {},
     "output_type": "execute_result"
    }
   ],
   "source": [
    "{1, 2, 4, 8, 16} & {1, 4, 16, 64, 256} #{1,4,16}"
   ]
  },
  {
   "cell_type": "code",
   "execution_count": 9,
   "id": "21735eb1",
   "metadata": {},
   "outputs": [
    {
     "data": {
      "text/plain": [
       "{2, 8}"
      ]
     },
     "execution_count": 9,
     "metadata": {},
     "output_type": "execute_result"
    }
   ],
   "source": [
    "{1, 2, 4, 8, 16} - {1, 4, 16, 64, 256} #{2,8}"
   ]
  },
  {
   "cell_type": "code",
   "execution_count": 10,
   "id": "6657c897",
   "metadata": {},
   "outputs": [
    {
     "data": {
      "text/plain": [
       "{2, 8, 64, 256}"
      ]
     },
     "execution_count": 10,
     "metadata": {},
     "output_type": "execute_result"
    }
   ],
   "source": [
    "{1, 2, 4, 8, 16} ^{1, 4, 16, 64, 256} #{2,8,64,256}"
   ]
  },
  {
   "cell_type": "code",
   "execution_count": 8,
   "id": "2ff4040e",
   "metadata": {},
   "outputs": [
    {
     "data": {
      "text/plain": [
       "False"
      ]
     },
     "execution_count": 8,
     "metadata": {},
     "output_type": "execute_result"
    }
   ],
   "source": [
    "{1, 2, 4, 8, 16}.isdisjoint( {1, 4, 16, 64, 256}) #False"
   ]
  }
 ],
 "metadata": {
  "kernelspec": {
   "display_name": "Python 3 (ipykernel)",
   "language": "python",
   "name": "python3"
  },
  "language_info": {
   "codemirror_mode": {
    "name": "ipython",
    "version": 3
   },
   "file_extension": ".py",
   "mimetype": "text/x-python",
   "name": "python",
   "nbconvert_exporter": "python",
   "pygments_lexer": "ipython3",
   "version": "3.9.7"
  }
 },
 "nbformat": 4,
 "nbformat_minor": 5
}
