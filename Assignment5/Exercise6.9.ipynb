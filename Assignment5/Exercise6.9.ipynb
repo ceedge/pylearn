{
 "cells": [
  {
   "cell_type": "markdown",
   "id": "a3b2c72f",
   "metadata": {},
   "source": [
    "# Exercise 6.9"
   ]
  },
  {
   "cell_type": "markdown",
   "id": "1069f09c",
   "metadata": {},
   "source": [
    "(Dictionary Manipulations) Using the following dictionary, which maps country  names to Internet top-level domains \n",
    "\n",
    "(TLDs):  tlds = {'Canada': 'ca', 'United States': 'us', 'Mexico': 'mx'}  \n",
    "\n",
    "perform the following tasks and display the results:  \n",
    "\n",
    "a) Check whether the dictionary contains the key 'Canada'. \n",
    "\n",
    "b) Check whether the dictionary contains the key 'France'.  \n",
    "\n",
    "c) Iterate through the key–value pairs and display them in two-column format.  \n",
    "\n",
    "d) Add the key–value pair 'Sweden' and 'sw' (which is incorrect).  \n",
    "\n",
    "e) Update the value for the key 'Sweden' to 'se'.  \n",
    "\n",
    "f) Use a dictionary comprehension to reverse the keys and values. \n",
    "\n",
    "(f), use a dictionary comprehension to convert the country names to all uppercase\n",
    "\n",
    "g) With the result of part (f), use a dictionary comprehension to convert the country names to all uppercase letters.  \n",
    "\n"
   ]
  },
  {
   "cell_type": "code",
   "execution_count": 19,
   "id": "5e3ee9c4",
   "metadata": {},
   "outputs": [
    {
     "name": "stdout",
     "output_type": "stream",
     "text": [
      "Canada is present in the dictionary as key \n",
      "France is not in the dictionary\n",
      "Canada:ca\n",
      "United States:us\n",
      "Mexico:mx\n",
      "{'Canada': 'ca', 'United States': 'us', 'Mexico': 'mx', 'Sweden': 'sw'}\n",
      "{'Canada': 'ca', 'United States': 'us', 'Mexico': 'mx', 'Sweden': 'se'}\n",
      "{'ca': 'Canada', 'us': 'United States', 'mx': 'Mexico', 'se': 'Sweden'}\n",
      "{'ca': 'Canada', 'us': 'United States', 'mx': 'Mexico', 'se': 'Sweden'}\n",
      "{'ca': 'CANADA', 'us': 'UNITED STATES', 'mx': 'MEXICO', 'se': 'SWEDEN'}\n"
     ]
    }
   ],
   "source": [
    "\n",
    "\n",
    "tlds={'Canada': 'ca', 'United States':'us','Mexico':'mx'}\n",
    "#A\n",
    "if 'Canada'in tlds:\n",
    "    print('Canada is present in the dictionary as key ')\n",
    "#B\n",
    "if 'France' in tlds:\n",
    "    print('France is present in the dictionary as key')\n",
    "else:\n",
    "    print('France is not in the dictionary')\n",
    "    \n",
    "#C\n",
    "\n",
    "for x,y in tlds.items():\n",
    "    print(f'{x}:{y}')\n",
    "    \n",
    "#D\n",
    "tlds['Sweden']='sw'\n",
    "print(tlds)\n",
    "#E\n",
    "tlds['Sweden']='se'\n",
    "print(tlds)\n",
    "\n",
    "#f\n",
    "\n",
    "retlds={y:x for x,y in tlds.items()}\n",
    "print(retlds)\n",
    "retlds={x:y.title() for x,y in retlds.items()}\n",
    "print(retlds)\n",
    "\n",
    "#2\n",
    "\n",
    "retlds={x:y.upper() for x,y in retlds.items()}\n",
    "print(retlds)"
   ]
  },
  {
   "cell_type": "code",
   "execution_count": null,
   "id": "611bbfcd",
   "metadata": {},
   "outputs": [],
   "source": []
  }
 ],
 "metadata": {
  "kernelspec": {
   "display_name": "Python 3 (ipykernel)",
   "language": "python",
   "name": "python3"
  },
  "language_info": {
   "codemirror_mode": {
    "name": "ipython",
    "version": 3
   },
   "file_extension": ".py",
   "mimetype": "text/x-python",
   "name": "python",
   "nbconvert_exporter": "python",
   "pygments_lexer": "ipython3",
   "version": "3.9.7"
  }
 },
 "nbformat": 4,
 "nbformat_minor": 5
}
