{
 "cells": [
  {
   "cell_type": "markdown",
   "id": "6038ffc0",
   "metadata": {},
   "source": [
    "# Exercise 6.11"
   ]
  },
  {
   "cell_type": "markdown",
   "id": "548dc196",
   "metadata": {},
   "source": [
    "(Analyzing the Game of Craps) Modify the script of Fig. 4.2 to play 1,000,000  games of craps. Use a wins dictionary to keep track of the number of games won for a particular number of rolls. Similarly, use a losses dictionary to keep track of the number of  games lost for a particular number of rolls. As the simulation proceeds, keep updating the  dictionaries.  \n",
    "\n",
    "A typical key–value pair in the wins dictionary might be \n",
    "\n",
    "4: 50217  \n",
    "\n",
    "indicating that 50217 games were won on the 4th roll. Display a summary of the results  including:  \n",
    "\n",
    "a) the percentage of the total games played that were won.  \n",
    "\n",
    "b) the percentage of the total games played that were lost.  \n",
    "\n",
    "c) the percentages of the total games played that were won or lost on a given roll  (column 2 of the sample output).  \n",
    "\n",
    "d) the cumulative percentage of the total games played that were won or lost up to  and including a given number of rolls (column 3 of the sample output). \n",
    "\n",
    " "
   ]
  },
  {
   "cell_type": "code",
   "execution_count": 55,
   "id": "a4a8865c",
   "metadata": {},
   "outputs": [
    {
     "name": "stdout",
     "output_type": "stream",
     "text": [
      "Percentage of wins: 49.3072%\n",
      "Percentage of losses: 50.6928%\n",
      "Percentage of wins or losses based on total rolls\n",
      "               Resolved %       Cummulative %\n",
      "Rolls        current roll      games resolved\n",
      "    1              33.27%               0.00%\n",
      "    2              18.93%              33.27%\n",
      "    3              13.48%              52.19%\n",
      "    4               9.65%              65.67%\n",
      "    5               6.92%              75.32%\n",
      "    6               4.99%              82.24%\n",
      "    7               3.56%              87.23%\n",
      "    8               2.56%              90.79%\n",
      "    9               1.83%              93.35%\n",
      "   10               1.32%              95.18%\n",
      "   11               0.98%              96.50%\n",
      "   12               0.69%              97.48%\n",
      "   13               0.51%              98.16%\n",
      "   14               0.37%              98.68%\n",
      "   15               0.26%              99.05%\n",
      "   16               0.19%              99.31%\n",
      "   17               0.14%              99.50%\n",
      "   18               0.10%              99.64%\n",
      "   19               0.07%              99.74%\n",
      "   20               0.05%              99.81%\n",
      "   21               0.04%              99.86%\n",
      "   22               0.03%              99.89%\n",
      "   23               0.02%              99.92%\n",
      "   24               0.02%              99.94%\n",
      "   25               0.04%             100.00%\n"
     ]
    }
   ],
   "source": [
    "import random\n",
    "\n",
    "def rando():\n",
    "    return random.randint(1,6)+random.randint(1,6)\n",
    "    \n",
    "\n",
    "def plays():\n",
    "    \n",
    "    r=rando()\n",
    "    if r in [7,11]:\n",
    "        return 'WIN',1\n",
    "    elif r in [2,3,12]:\n",
    "        return 'LOST',1\n",
    "    else:\n",
    "        point=r\n",
    "        attempt=1\n",
    "        while True:\n",
    "            r=rando()\n",
    "            attempt+=1\n",
    "            if r ==point:\n",
    "                return 'WIN',attempt\n",
    "            elif r ==7:\n",
    "                return 'LOST',attempt\n",
    "            else:\n",
    "                continue \n",
    "\n",
    "def game():\n",
    "    rtime=[0]*25 #number of rolls \n",
    "    win=0\n",
    "    loss=0\n",
    "    roll_limit=1000000\n",
    "    for _ in range(roll_limit):\n",
    "        result,attempt=plays()\n",
    "        if result=='WIN':\n",
    "            win+=1\n",
    "        else:\n",
    "            loss+=1\n",
    "        if attempt<=len(rtime):\n",
    "            rtime[attempt-1]+=1\n",
    "        else:\n",
    "            rtime[-1]+=1\n",
    "    print('Percentage of wins: {}%'.format((win*100)/roll_limit))\n",
    "    print(\"Percentage of losses: {}%\".format((loss*100)/roll_limit))\n",
    "    print('Percentage of wins or losses based on total rolls')\n",
    "    print('{:>25}{:>20}'.format(' Resolved %','Cummulative %' ))\n",
    "    print('{:<5}{:>20}{:>20}'.format('Rolls','current roll', 'games resolved'))\n",
    "    for x in range(len(rtime)):\n",
    "        p=rtime[x]*100/roll_limit\n",
    "        c= 100*sum(rtime[0:x])/roll_limit\n",
    "        if x!=len(rtime)-1:\n",
    "            print('{:>5}{:>19.2f}%{:>19.2f}%'.format(x+1,p,c))\n",
    "        else:\n",
    "            print('{:>5}{:>19.2f}%{:>19.2f}%'.format(x+1,p,100*sum(rtime)/roll_limit))\n",
    "    \n",
    "    \n",
    "game()   \n",
    "    "
   ]
  },
  {
   "cell_type": "code",
   "execution_count": null,
   "id": "70c85a0d",
   "metadata": {},
   "outputs": [],
   "source": []
  }
 ],
 "metadata": {
  "kernelspec": {
   "display_name": "Python 3 (ipykernel)",
   "language": "python",
   "name": "python3"
  },
  "language_info": {
   "codemirror_mode": {
    "name": "ipython",
    "version": 3
   },
   "file_extension": ".py",
   "mimetype": "text/x-python",
   "name": "python",
   "nbconvert_exporter": "python",
   "pygments_lexer": "ipython3",
   "version": "3.9.7"
  }
 },
 "nbformat": 4,
 "nbformat_minor": 5
}
