{
 "cells": [
  {
   "cell_type": "markdown",
   "id": "199a866c",
   "metadata": {},
   "source": [
    "# Exercise 6.3"
   ]
  },
  {
   "cell_type": "markdown",
   "id": "51818b15",
   "metadata": {},
   "source": [
    "(What Does This Code Do?) The dictionary temperatures contains three Fahrenheit temperature samples for each of four days. What does the for statement do? \n"
   ]
  },
  {
   "cell_type": "code",
   "execution_count": 1,
   "id": "56382326",
   "metadata": {},
   "outputs": [
    {
     "name": "stdout",
     "output_type": "stream",
     "text": [
      "Monday: 70.00\n",
      "Tuesday: 56.67\n",
      "Wednesday: 79.33\n",
      "Thursday: 74.00\n"
     ]
    }
   ],
   "source": [
    "temperatures = {  \n",
    "    'Monday': [66, 70, 74],  \n",
    "    'Tuesday': [50, 56, 64],  \n",
    "    'Wednesday': [75, 80, 83],  \n",
    "    'Thursday': [67, 74, 81]  \n",
    "}  \n",
    "for k, v in temperatures.items():  \n",
    "    print(f'{k}: {sum(v)/len(v):.2f}')  "
   ]
  },
  {
   "cell_type": "code",
   "execution_count": 2,
   "id": "4c461e43",
   "metadata": {},
   "outputs": [
    {
     "name": "stdout",
     "output_type": "stream",
     "text": [
      "Monday: 70.0\n",
      "Tuesday: 56.666666666666664\n",
      "Wednesday: 79.33333333333333\n",
      "Thursday: 74.0\n"
     ]
    }
   ],
   "source": [
    "for k, v in temperatures.items():  \n",
    "    print(f'{k}: {sum(v)/len(v)}')  "
   ]
  },
  {
   "cell_type": "markdown",
   "id": "bdfc1dea",
   "metadata": {},
   "source": [
    "\n",
    "the for statement  takes each day in the dictionary  and takes each day temperature gave give the average to two decimal places.\n"
   ]
  }
 ],
 "metadata": {
  "kernelspec": {
   "display_name": "Python 3 (ipykernel)",
   "language": "python",
   "name": "python3"
  },
  "language_info": {
   "codemirror_mode": {
    "name": "ipython",
    "version": 3
   },
   "file_extension": ".py",
   "mimetype": "text/x-python",
   "name": "python",
   "nbconvert_exporter": "python",
   "pygments_lexer": "ipython3",
   "version": "3.9.7"
  }
 },
 "nbformat": 4,
 "nbformat_minor": 5
}
