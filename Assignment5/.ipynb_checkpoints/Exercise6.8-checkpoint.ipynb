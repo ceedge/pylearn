{
 "cells": [
  {
   "cell_type": "markdown",
   "id": "10aba182",
   "metadata": {},
   "source": [
    "# Exercise 6.8"
   ]
  },
  {
   "cell_type": "markdown",
   "id": "4b48462a",
   "metadata": {},
   "source": [
    "(Challenge: Writing the Word Equivalent of a Check Amount) In check-writing  systems, it’s crucial to prevent alteration of check amounts. One common security method requires that the amount be written in numbers and spelled out in words as well. Even if  someone can alter the numerical amount of the check, it’s tough to change the amount in  words. Create a dictionary that maps numbers to their corresponding word equivalents.  Write a script that inputs a numeric check amount that’s less than 1000 and uses the dictionary to write the word equivalent of the amount. For example, the amount 112.43  should be written as  \n",
    "\n",
    "ONE HUNDRED TWELVE AND 43/100 "
   ]
  },
  {
   "cell_type": "code",
   "execution_count": 10,
   "id": "721c1f7f",
   "metadata": {},
   "outputs": [
    {
     "name": "stdout",
     "output_type": "stream",
     "text": [
      "please put in a number:112.43\n",
      "ONE HUNDRED TWELVE AND 43 / 100\n"
     ]
    }
   ],
   "source": [
    "def num_alph(x):\n",
    "    d={0:'zero', 1:'one', 2:'two', 3:'three', 4:'four', 5:'five', \n",
    "       6:'six', 7:'seven', 8:'eight', 9:'nine', 10:'ten', 11:'eleven',\n",
    "       12:'twelve', 13:'thirteen', 14:'fourteen', 15:'fifteen', 16:'sixteen', \n",
    "       17:'seventeen', 18:'eighteen', 19:'nineteen', 20:'twenty',30:'thirty',\n",
    "       40:'forty', 50: 'fifty', 60:'sixty', 70:'seventy', 80:'eighty', 90:'ninety'}\n",
    "    n=1000\n",
    "    y=1000000\n",
    "    \n",
    "    assert(0<=x)\n",
    "    if x<20:\n",
    "        return d[x]\n",
    "    if x<100:\n",
    "        if x % 10==0:\n",
    "            return d[x]\n",
    "        else:\n",
    "            return d[x//10*10]+' '+d[x%10]\n",
    "    if x<n:\n",
    "        if x%100==0:\n",
    "            return d[x//100]+' hundred '\n",
    "        else:\n",
    "            return d[x//100]+' hundred '+ num_alph(x%100)\n",
    "    if x<y:\n",
    "        if x%n==0:\n",
    "            return num_alph(x//1000)+'thousand'\n",
    "        else:\n",
    "            return num_alph(x//1000)+' thousand ' + num_alph(x%n)\n",
    "num=input( 'please put in a number:')\n",
    "point=num.split('.')\n",
    "\n",
    "if len(point)==2:\n",
    "    print(num_alph(int(point[0])).upper(), \"AND\", point[1],\"/\",10**(len(point[1])))\n",
    "else:\n",
    "    print(num_alph(int(point[0])).upper())\n",
    "        \n",
    "\n",
    "\n"
   ]
  },
  {
   "cell_type": "code",
   "execution_count": null,
   "id": "a64de973",
   "metadata": {},
   "outputs": [],
   "source": []
  }
 ],
 "metadata": {
  "kernelspec": {
   "display_name": "Python 3 (ipykernel)",
   "language": "python",
   "name": "python3"
  },
  "language_info": {
   "codemirror_mode": {
    "name": "ipython",
    "version": 3
   },
   "file_extension": ".py",
   "mimetype": "text/x-python",
   "name": "python",
   "nbconvert_exporter": "python",
   "pygments_lexer": "ipython3",
   "version": "3.9.7"
  }
 },
 "nbformat": 4,
 "nbformat_minor": 5
}
