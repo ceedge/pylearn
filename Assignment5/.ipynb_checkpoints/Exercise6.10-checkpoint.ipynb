{
 "cells": [
  {
   "cell_type": "markdown",
   "id": "446f1294",
   "metadata": {},
   "source": [
    "# Exercise 6.10"
   ]
  },
  {
   "cell_type": "markdown",
   "id": "a5e4d612",
   "metadata": {},
   "source": [
    "(Set Manipulations) Using the following sets: \n",
    "\n",
    "{'red', 'green', 'blue'}  \n",
    "\n",
    "{'cyan', 'green', 'blue', 'magenta', 'red'} \n",
    "\n",
    "display the results of:  \n",
    "\n",
    "a) comparing the sets using the each of the comparison operators.  \n",
    "\n",
    "b) combining the sets using each of the mathematical set operators.  \n"
   ]
  },
  {
   "cell_type": "code",
   "execution_count": 14,
   "id": "6321e6b4",
   "metadata": {},
   "outputs": [
    {
     "name": "stdout",
     "output_type": "stream",
     "text": [
      "False\n",
      "True\n",
      "True\n",
      "False\n",
      "False\n",
      "True\n",
      "{'magenta', 'red', 'blue', 'cyan', 'green'}\n",
      "{'blue', 'green', 'red'}\n",
      "set()\n",
      "{'cyan', 'magenta'}\n",
      "{'cyan', 'magenta'}\n",
      "False\n",
      "False\n"
     ]
    }
   ],
   "source": [
    "x={'red', 'green', 'blue'}\n",
    "y={'cyan', 'green', 'blue', 'magenta', 'red'} \n",
    "#A\n",
    "print(x==y)\n",
    "print(x!=y)\n",
    "print(x<y)\n",
    "print(x>y)\n",
    "print(x>=y)\n",
    "print(x<=y)\n",
    "#B\n",
    "print(x|y)\n",
    "print(x&y)\n",
    "print(x-y)\n",
    "print(y-x)\n",
    "print(x^y)\n",
    "print(x.isdisjoint(y))\n",
    "print(y.isdisjoint(x))"
   ]
  },
  {
   "cell_type": "code",
   "execution_count": null,
   "id": "6a5c7631",
   "metadata": {},
   "outputs": [],
   "source": []
  }
 ],
 "metadata": {
  "kernelspec": {
   "display_name": "Python 3 (ipykernel)",
   "language": "python",
   "name": "python3"
  },
  "language_info": {
   "codemirror_mode": {
    "name": "ipython",
    "version": 3
   },
   "file_extension": ".py",
   "mimetype": "text/x-python",
   "name": "python",
   "nbconvert_exporter": "python",
   "pygments_lexer": "ipython3",
   "version": "3.9.7"
  }
 },
 "nbformat": 4,
 "nbformat_minor": 5
}
