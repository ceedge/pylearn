{
 "cells": [
  {
   "cell_type": "markdown",
   "id": "4c8a6b4f",
   "metadata": {},
   "source": [
    "# Exercise 6.6"
   ]
  },
  {
   "cell_type": "markdown",
   "id": "4cea54e8",
   "metadata": {},
   "source": [
    "(Duplicate Word Removal) Write a function that receives a list of words, then determines and displays in alphabetical order only the unique words. Treat uppercase and  lowercase letters the same. The function should use a set to get the unique words in the  list. Test your function with several sentences. "
   ]
  },
  {
   "cell_type": "code",
   "execution_count": 11,
   "id": "719128d9",
   "metadata": {},
   "outputs": [
    {
     "name": "stdout",
     "output_type": "stream",
     "text": [
      "bill\n",
      "hello\n",
      "jill\n",
      "wild\n"
     ]
    }
   ],
   "source": [
    "def dupremove(x):\n",
    "    i =set({})\n",
    "    for j in x:\n",
    "        i.add(j.lower())\n",
    "    for j in sorted(i):\n",
    "        print(j)\n",
    "            \n",
    "c=[\"hello\", 'wild', 'bill', 'Hello', 'Jill', 'Wild']\n",
    "\n",
    "dupremove(c)\n",
    "        "
   ]
  },
  {
   "cell_type": "code",
   "execution_count": null,
   "id": "fcb7e84f",
   "metadata": {},
   "outputs": [],
   "source": []
  }
 ],
 "metadata": {
  "kernelspec": {
   "display_name": "Python 3 (ipykernel)",
   "language": "python",
   "name": "python3"
  },
  "language_info": {
   "codemirror_mode": {
    "name": "ipython",
    "version": 3
   },
   "file_extension": ".py",
   "mimetype": "text/x-python",
   "name": "python",
   "nbconvert_exporter": "python",
   "pygments_lexer": "ipython3",
   "version": "3.9.7"
  }
 },
 "nbformat": 4,
 "nbformat_minor": 5
}
