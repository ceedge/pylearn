{
 "cells": [
  {
   "cell_type": "markdown",
   "id": "4140ce52",
   "metadata": {},
   "source": [
    "# exercise 6.5"
   ]
  },
  {
   "cell_type": "markdown",
   "id": "f972f23c",
   "metadata": {},
   "source": [
    "(Counting Duplicate Words) Write a script that uses a dictionary to determine and  print the number of duplicate words in a sentence. Treat uppercase and lowercase letters  the same and assume there is no punctuation in the sentence. Use the techniques you  learned in Section 6.2.7. Words with counts larger than 1 have duplicates.  "
   ]
  },
  {
   "cell_type": "code",
   "execution_count": 35,
   "id": "971ff5bf",
   "metadata": {},
   "outputs": [
    {
     "name": "stdout",
     "output_type": "stream",
     "text": [
      "Word        Count\n",
      "----        ----\n",
      "different   1\n",
      "is          2\n",
      "more        1\n",
      "sample      2\n",
      "several     1\n",
      "some        1\n",
      "text        2\n",
      "this        2\n",
      "with        2\n",
      "words       2\n",
      "\n",
      "Number of unique words:  10\n",
      "\n",
      "Duplicate words: \n",
      "is          \n",
      "sample      \n",
      "text        \n",
      "this        \n",
      "with        \n",
      "words       \n"
     ]
    }
   ],
   "source": [
    "from collections import Counter\n",
    "\n",
    "text = ('this is sample text with several words '  \n",
    "        'this is more sample text with some different words')  \n",
    "\n",
    "\n",
    "tlower=text.lower()\n",
    "\n",
    "\n",
    "word={}\n",
    "\n",
    "for i in tlower.split():\n",
    "    if i in word:\n",
    "        word[i]+=1\n",
    "    else:\n",
    "        word[i]=1\n",
    "print(f'{\"Word\":<12}Count')\n",
    "print(f'{\"----\":<12}----')\n",
    "for i,c in sorted(word.items()):\n",
    "    print(f'{i:<12}{c}')\n",
    "\n",
    "print('\\nNumber of unique words: ',len(word) )\n",
    "\n",
    "print('\\nDuplicate words: ')\n",
    "for i,c in sorted(word.items()):\n",
    "    if word[i]>1:\n",
    "        print(f'{i:<12}')\n",
    "\n"
   ]
  },
  {
   "cell_type": "code",
   "execution_count": null,
   "id": "ab4626f9",
   "metadata": {},
   "outputs": [],
   "source": []
  },
  {
   "cell_type": "code",
   "execution_count": null,
   "id": "84fd8e1d",
   "metadata": {},
   "outputs": [],
   "source": []
  }
 ],
 "metadata": {
  "kernelspec": {
   "display_name": "Python 3 (ipykernel)",
   "language": "python",
   "name": "python3"
  },
  "language_info": {
   "codemirror_mode": {
    "name": "ipython",
    "version": 3
   },
   "file_extension": ".py",
   "mimetype": "text/x-python",
   "name": "python",
   "nbconvert_exporter": "python",
   "pygments_lexer": "ipython3",
   "version": "3.9.7"
  }
 },
 "nbformat": 4,
 "nbformat_minor": 5
}
