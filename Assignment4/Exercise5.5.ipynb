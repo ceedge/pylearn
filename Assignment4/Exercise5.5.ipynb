{
 "cells": [
  {
   "cell_type": "markdown",
   "id": "eb842fb7",
   "metadata": {},
   "source": [
    "# Exercise 5.5"
   ]
  },
  {
   "cell_type": "markdown",
   "id": "f3489873",
   "metadata": {},
   "source": [
    "(IPython Session: Slicing) Create a string called alphabet containing 'abcdefghijklmnopqrstuvwxyz', then perform the following separate slice operations to obtain:  \n",
    "a) The first half of the string using starting and ending indices.  \n",
    "b) The first half of the string using only the ending index.  \n",
    "c) The second half of the string using starting and ending indices.  \n",
    "d) The second half of the string using only the starting index.  \n",
    "e) Every second letter in the string starting with 'a'.  \n",
    "f) The entire string in reverse.  \n",
    "g) Every third letter of the string in reverse starting with 'z'. \n",
    "\n"
   ]
  },
  {
   "cell_type": "code",
   "execution_count": 17,
   "id": "313774bb",
   "metadata": {
    "scrolled": true
   },
   "outputs": [
    {
     "name": "stdout",
     "output_type": "stream",
     "text": [
      "26\n",
      "abcdefghijklm\n",
      "abcdefghijklm\n",
      "abcdefghijklm\n"
     ]
    }
   ],
   "source": [
    "alp='abcdefghijklmnopqrstuvwxyz'\n",
    "\n",
    "#A.\n",
    "print(len(alp))\n",
    "print(alp[0:13])\n",
    "print(alp[0:len(alp)//2])\n",
    "print(alp[slice(0,len(alp)//2)])"
   ]
  },
  {
   "cell_type": "code",
   "execution_count": 18,
   "id": "b93b2784",
   "metadata": {},
   "outputs": [
    {
     "name": "stdout",
     "output_type": "stream",
     "text": [
      "abcdefghijklm\n",
      "abcdefghijklm\n",
      "abcdefghijklm\n"
     ]
    }
   ],
   "source": [
    "#B\n",
    "print(alp[:13])\n",
    "print(alp[:len(alp)//2])\n",
    "print(alp[slice(len(alp)//2)])"
   ]
  },
  {
   "cell_type": "code",
   "execution_count": 19,
   "id": "f416eb78",
   "metadata": {},
   "outputs": [
    {
     "name": "stdout",
     "output_type": "stream",
     "text": [
      "nopqrstuvwxyz\n",
      "nopqrstuvwxyz\n"
     ]
    }
   ],
   "source": [
    "#C\n",
    "print(alp[13:26])\n",
    "print(alp[len(alp)//2:len(alp)])"
   ]
  },
  {
   "cell_type": "code",
   "execution_count": 20,
   "id": "b90b5ceb",
   "metadata": {},
   "outputs": [
    {
     "name": "stdout",
     "output_type": "stream",
     "text": [
      "nopqrstuvwxyz\n",
      "nopqrstuvwxyz\n"
     ]
    }
   ],
   "source": [
    "#D\n",
    "print(alp[13:])\n",
    "print(alp[len(alp)//2:])"
   ]
  },
  {
   "cell_type": "code",
   "execution_count": 21,
   "id": "b2d2a331",
   "metadata": {},
   "outputs": [
    {
     "name": "stdout",
     "output_type": "stream",
     "text": [
      "acegikmoqsuwy\n"
     ]
    }
   ],
   "source": [
    "#E\n",
    "print(alp[0:len(alp):2])"
   ]
  },
  {
   "cell_type": "code",
   "execution_count": 37,
   "id": "af9cba6c",
   "metadata": {},
   "outputs": [
    {
     "name": "stdout",
     "output_type": "stream",
     "text": [
      "zyxwvutsrqponmlkjihgfedcba\n",
      "zyxwvutsrqponmlkjihgfedcba\n",
      "zyxwvutsrqponmlkjihgfedcba\n"
     ]
    }
   ],
   "source": [
    "#F\n",
    "print(alp[-1:-26-1:-1])\n",
    "print(alp[-1:-len(alp)-1:-1])\n",
    "print(alp[::-1])"
   ]
  },
  {
   "cell_type": "code",
   "execution_count": 42,
   "id": "f862b0c8",
   "metadata": {},
   "outputs": [
    {
     "name": "stdout",
     "output_type": "stream",
     "text": [
      "zwtqnkheb\n",
      "zwtqnkheb\n",
      "zwtqnkheb\n"
     ]
    }
   ],
   "source": [
    "#G\n",
    "print(alp[-1:-27:-3])\n",
    "print(alp[-1::-3])\n",
    "print(alp[-1:-len(alp)-1:-3])"
   ]
  },
  {
   "cell_type": "code",
   "execution_count": null,
   "id": "4bb9b9b9",
   "metadata": {},
   "outputs": [],
   "source": []
  }
 ],
 "metadata": {
  "kernelspec": {
   "display_name": "Python 3 (ipykernel)",
   "language": "python",
   "name": "python3"
  },
  "language_info": {
   "codemirror_mode": {
    "name": "ipython",
    "version": 3
   },
   "file_extension": ".py",
   "mimetype": "text/x-python",
   "name": "python",
   "nbconvert_exporter": "python",
   "pygments_lexer": "ipython3",
   "version": "3.9.7"
  }
 },
 "nbformat": 4,
 "nbformat_minor": 5
}
