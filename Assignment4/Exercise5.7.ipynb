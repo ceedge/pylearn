{
 "cells": [
  {
   "cell_type": "markdown",
   "id": "77e990ac",
   "metadata": {},
   "source": [
    "# Exercise 5.7"
   ]
  },
  {
   "cell_type": "markdown",
   "id": "82850449",
   "metadata": {},
   "source": [
    "5.7 (Duplicate Elimination) Create a function that receives a list and returns a (possibly shorter) list containing only the unique values in sorted order. Test your function with  a list of numbers and a list of strings. \n",
    "\n"
   ]
  },
  {
   "cell_type": "code",
   "execution_count": 2,
   "id": "48982258",
   "metadata": {},
   "outputs": [
    {
     "name": "stdout",
     "output_type": "stream",
     "text": [
      "[2, 4, 5, 7, 8, 10]\n",
      "['a', 'b', 'c', 'd', 'f', 'x']\n"
     ]
    }
   ],
   "source": [
    "def de(x):\n",
    "    lst=[]\n",
    "    for i in x:\n",
    "        if i not in lst:\n",
    "            lst.append(i)\n",
    "    lst.sort()\n",
    "    return lst\n",
    "\n",
    "n=[5,8,4,2,5,7,10,7]\n",
    "print(de(n))\n",
    "\n",
    "n=['a','b','d','x','c','a','c','f']\n",
    "print(de(n))\n",
    "        \n",
    "    "
   ]
  },
  {
   "cell_type": "code",
   "execution_count": null,
   "id": "1ebea9f5",
   "metadata": {},
   "outputs": [],
   "source": []
  }
 ],
 "metadata": {
  "kernelspec": {
   "display_name": "Python 3 (ipykernel)",
   "language": "python",
   "name": "python3"
  },
  "language_info": {
   "codemirror_mode": {
    "name": "ipython",
    "version": 3
   },
   "file_extension": ".py",
   "mimetype": "text/x-python",
   "name": "python",
   "nbconvert_exporter": "python",
   "pygments_lexer": "ipython3",
   "version": "3.9.7"
  }
 },
 "nbformat": 4,
 "nbformat_minor": 5
}
