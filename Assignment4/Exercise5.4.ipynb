{
 "cells": [
  {
   "cell_type": "markdown",
   "id": "16a02221",
   "metadata": {},
   "source": [
    "# Exercises 5.4"
   ]
  },
  {
   "cell_type": "markdown",
   "id": "68b37419",
   "metadata": {},
   "source": [
    "5.4 (Iteration Order) Create a 2-by-3 list, then use a nested loop to:  \n",
    "    a) Set each element’s value to an integer indicating the order in which it was processed by the nested loop.  \n",
    "    b) Display the elements in tabular format. Use the column indices as headings  across the top, and the row indices to the left of each row.  \n",
    "\n"
   ]
  },
  {
   "cell_type": "code",
   "execution_count": 24,
   "id": "64d87639",
   "metadata": {},
   "outputs": [
    {
     "name": "stdout",
     "output_type": "stream",
     "text": [
      "[[None, None, None], [None, None, None]]\t"
     ]
    }
   ],
   "source": [
    "tab=[[None]*3 for i in range(0,2)]\n",
    "print(tab, end='\\t')"
   ]
  },
  {
   "cell_type": "code",
   "execution_count": 25,
   "id": "449a25a2",
   "metadata": {},
   "outputs": [
    {
     "name": "stdout",
     "output_type": "stream",
     "text": [
      "\t 1 \t 2 \t 3\n",
      "\t --- \t --- \t ---\n",
      "1 |\t 1\t 2\t 3\t \n",
      "2 |\t 4\t 5\t 6\t \n"
     ]
    }
   ],
   "source": [
    "cn=1\n",
    "#loop\n",
    "for i in range(0,2):\n",
    "    for j in range(0,3):\n",
    "        tab[i][j]=cn\n",
    "        cn=cn+1\n",
    "print('\\t',1,'\\t',2,'\\t',3)\n",
    "print('\\t','---','\\t','---','\\t','---')\n",
    "\n",
    "for i in range(0,2):\n",
    "    print(i+1,'|',end='\\t ')\n",
    "    for j in range(0,3):\n",
    "        print(tab[i][j],end='\\t ')\n",
    "    print()"
   ]
  },
  {
   "cell_type": "code",
   "execution_count": null,
   "id": "c13ac3fc",
   "metadata": {},
   "outputs": [],
   "source": []
  },
  {
   "cell_type": "markdown",
   "id": "e046424b",
   "metadata": {},
   "source": []
  }
 ],
 "metadata": {
  "kernelspec": {
   "display_name": "Python 3 (ipykernel)",
   "language": "python",
   "name": "python3"
  },
  "language_info": {
   "codemirror_mode": {
    "name": "ipython",
    "version": 3
   },
   "file_extension": ".py",
   "mimetype": "text/x-python",
   "name": "python",
   "nbconvert_exporter": "python",
   "pygments_lexer": "ipython3",
   "version": "3.9.7"
  }
 },
 "nbformat": 4,
 "nbformat_minor": 5
}
