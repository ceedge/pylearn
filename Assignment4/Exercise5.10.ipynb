{
 "cells": [
  {
   "cell_type": "markdown",
   "id": "185bad8c",
   "metadata": {},
   "source": [
    "# Exercise 5.10"
   ]
  },
  {
   "cell_type": "markdown",
   "id": "423cb4f7",
   "metadata": {},
   "source": [
    "(Anagrams) An anagram of a string is another string formed by rearranging the letters in the first. Write a script that produces all possible anagrams of a given string using  only techniques that you’ve seen to this point in the book.[The itertools module provides many functions, including one that produces permutations.]  \n"
   ]
  },
  {
   "cell_type": "code",
   "execution_count": 3,
   "id": "ab8bf8db",
   "metadata": {},
   "outputs": [
    {
     "name": "stdout",
     "output_type": "stream",
     "text": [
      "['ehlol', 'lleoh', 'holel', 'olleh', 'lolhe', 'eolhl', 'hlole', 'leohl', 'elolh', 'lehol', 'lhole', 'oellh', 'olhle', 'llhoe', 'elhlo', 'hello', 'llheo', 'hlloe', 'lohel', 'hoell', 'ellho', 'lhoel', 'loehl', 'oelhl', 'ollhe', 'ohlle', 'helol', 'leolh', 'olhel', 'lelho', 'lloeh', 'heoll', 'eohll', 'lhelo', 'loleh', 'ehllo', 'lhleo', 'loelh', 'lhloe', 'hlelo', 'hloel', 'llohe', 'eollh', 'lheol', 'leloh', 'ohell', 'ohlel', 'holle', 'lehlo', 'elhol', 'elohl', 'elloh', 'eholl', 'hleol', 'lleho', 'lohle', 'oehll', 'olelh', 'hlleo', 'olehl']\n"
     ]
    }
   ],
   "source": [
    "from itertools import permutations \n",
    "\n",
    "def anagram(x):\n",
    "    g=[\"\".join(i) for i in permutations(x)]\n",
    "    return list(set(g))\n",
    "       \n",
    "            \n",
    "\n",
    "print(anagram('hello'))\n",
    "\n"
   ]
  },
  {
   "cell_type": "code",
   "execution_count": null,
   "id": "bfae5584",
   "metadata": {},
   "outputs": [],
   "source": []
  },
  {
   "cell_type": "code",
   "execution_count": null,
   "id": "5c4e2d4b",
   "metadata": {},
   "outputs": [],
   "source": []
  }
 ],
 "metadata": {
  "kernelspec": {
   "display_name": "Python 3 (ipykernel)",
   "language": "python",
   "name": "python3"
  },
  "language_info": {
   "codemirror_mode": {
    "name": "ipython",
    "version": 3
   },
   "file_extension": ".py",
   "mimetype": "text/x-python",
   "name": "python",
   "nbconvert_exporter": "python",
   "pygments_lexer": "ipython3",
   "version": "3.9.7"
  }
 },
 "nbformat": 4,
 "nbformat_minor": 5
}
