{
 "cells": [
  {
   "cell_type": "markdown",
   "id": "40d03d4b",
   "metadata": {},
   "source": [
    "# Exercises 5.3"
   ]
  },
  {
   "cell_type": "markdown",
   "id": "c6a48902",
   "metadata": {},
   "source": [
    "5.3 (Fill in the Missing Code) Replace the ***s in the following list comprehension and  map function call, such that given a list of heights in inches, the code maps the list to a list  of tuples containing the original height values and their corresponding values in meters.  For example, if one element in the original list contains the height 69 inches, the corresponding element in the new list will contain the tuple (69, 1.7526), representing both  the height in inches and the height in meters. There are 0.0254 meters per inch.  \n",
    "[*** for x in [69, 77, 54]]  \n",
    "list(map(lambda ***, [69, 77, 54]))  "
   ]
  },
  {
   "cell_type": "code",
   "execution_count": 7,
   "id": "120872e4",
   "metadata": {},
   "outputs": [
    {
     "name": "stdout",
     "output_type": "stream",
     "text": [
      "[(69, 1.7526), (77, 1.9558), (54, 1.3716)]\n",
      "[(69, 1.7526), (77, 1.9558), (54, 1.3716)]\n"
     ]
    }
   ],
   "source": [
    "print([(x,x*0.0254) for x in [69,77,54]])\n",
    "\n",
    "print(list(map(lambda x:(x,x *0.0254),(69,77,54))))"
   ]
  },
  {
   "cell_type": "code",
   "execution_count": null,
   "id": "90f8dd65",
   "metadata": {},
   "outputs": [],
   "source": []
  }
 ],
 "metadata": {
  "kernelspec": {
   "display_name": "Python 3 (ipykernel)",
   "language": "python",
   "name": "python3"
  },
  "language_info": {
   "codemirror_mode": {
    "name": "ipython",
    "version": 3
   },
   "file_extension": ".py",
   "mimetype": "text/x-python",
   "name": "python",
   "nbconvert_exporter": "python",
   "pygments_lexer": "ipython3",
   "version": "3.9.7"
  }
 },
 "nbformat": 4,
 "nbformat_minor": 5
}
