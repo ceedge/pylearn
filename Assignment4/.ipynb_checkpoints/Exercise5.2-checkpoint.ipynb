{
 "cells": [
  {
   "cell_type": "markdown",
   "id": "38f7bccd",
   "metadata": {},
   "source": [
    "# Exercise 5.2\n"
   ]
  },
  {
   "cell_type": "markdown",
   "id": "75b89408",
   "metadata": {},
   "source": [
    "(What’s Does This Code Do?) What does the following function do, based on the  sequence it receives as an argument?  \n",
    "\n",
    "def mystery(sequence):  \n",
    "    return sequence == sorted(sequence) \n",
    "\n"
   ]
  },
  {
   "cell_type": "code",
   "execution_count": 15,
   "id": "d4bab3b5",
   "metadata": {},
   "outputs": [
    {
     "name": "stdout",
     "output_type": "stream",
     "text": [
      "False\n",
      "['a', 'b', 'c', 'e', 'f', 's']\n"
     ]
    }
   ],
   "source": [
    "\n",
    "\n",
    "def mystery(sequence):\n",
    "    return sequence == sorted(sequence)\n",
    "print(mystery('desaxi'))\n",
    "\n",
    "\n",
    "letter='fesacb'\n",
    "print(sorted(letter))"
   ]
  },
  {
   "cell_type": "markdown",
   "id": "75b64f5c",
   "metadata": {},
   "source": [
    "the code provides a boolean value that would give you a true or false if the argument that is given  is in sorted order or not"
   ]
  },
  {
   "cell_type": "code",
   "execution_count": null,
   "id": "d87ca2b0",
   "metadata": {},
   "outputs": [],
   "source": []
  }
 ],
 "metadata": {
  "kernelspec": {
   "display_name": "Python 3 (ipykernel)",
   "language": "python",
   "name": "python3"
  },
  "language_info": {
   "codemirror_mode": {
    "name": "ipython",
    "version": 3
   },
   "file_extension": ".py",
   "mimetype": "text/x-python",
   "name": "python",
   "nbconvert_exporter": "python",
   "pygments_lexer": "ipython3",
   "version": "3.9.7"
  }
 },
 "nbformat": 4,
 "nbformat_minor": 5
}
