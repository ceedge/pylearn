{
 "cells": [
  {
   "cell_type": "markdown",
   "id": "4e7a7851",
   "metadata": {},
   "source": [
    "# Exerscise 5.9"
   ]
  },
  {
   "cell_type": "markdown",
   "id": "61f949f9",
   "metadata": {},
   "source": [
    "5.9 (Palindrome Tester) A string that’s spelled identically backward and forward, like  'radar', is a palindrome. Write a function is_palindrome that takes a string and returns  True if it’s a palindrome and False otherwise. Use a stack (simulated with a list as we did  in Section 5.11) to help determine whether a string is a palindrome. Your function should  ignore case sensitivity (that is, 'a' and 'A' are the same), spaces and punctuation. \n"
   ]
  },
  {
   "cell_type": "code",
   "execution_count": 8,
   "id": "4bf0c170",
   "metadata": {},
   "outputs": [
    {
     "name": "stdout",
     "output_type": "stream",
     "text": [
      "False\n",
      "True\n"
     ]
    }
   ],
   "source": [
    "\n",
    "from string import digits, ascii_lowercase \n",
    "\n",
    "\n",
    "\n",
    "def is_palindrome(x):\n",
    "    j=\"\"\n",
    "    cha=digits + ascii_lowercase\n",
    "    for i in x.lower():\n",
    "        if i in cha:\n",
    "            j=j+i\n",
    "    return j==j[::-1]\n",
    "            \n",
    "\n",
    "print( is_palindrome(\"cj\"))\n",
    "print( is_palindrome(\"madam\"))"
   ]
  },
  {
   "cell_type": "code",
   "execution_count": null,
   "id": "9217b64b",
   "metadata": {},
   "outputs": [],
   "source": []
  }
 ],
 "metadata": {
  "kernelspec": {
   "display_name": "Python 3 (ipykernel)",
   "language": "python",
   "name": "python3"
  },
  "language_info": {
   "codemirror_mode": {
    "name": "ipython",
    "version": 3
   },
   "file_extension": ".py",
   "mimetype": "text/x-python",
   "name": "python",
   "nbconvert_exporter": "python",
   "pygments_lexer": "ipython3",
   "version": "3.9.7"
  }
 },
 "nbformat": 4,
 "nbformat_minor": 5
}
