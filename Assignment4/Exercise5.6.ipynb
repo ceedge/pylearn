{
 "cells": [
  {
   "cell_type": "markdown",
   "id": "b3daed45",
   "metadata": {},
   "source": [
    "# Exercise 5.6"
   ]
  },
  {
   "cell_type": "markdown",
   "id": "2a0de105",
   "metadata": {},
   "source": [
    "5.6 (Functions Returning Tuples) Define a function rotate that receives three arguments and returns a tuple in which the first argument is at index 1, the second argument  is at index 2 and the third argument is at index 0. Define variables a, b and c containing  'Doug', 22 and 1984. Then call the function three times. For each call, unpack its result  into a, b and c, then display their values. \n",
    "\n"
   ]
  },
  {
   "cell_type": "code",
   "execution_count": 38,
   "id": "ec5a3483",
   "metadata": {},
   "outputs": [
    {
     "name": "stdout",
     "output_type": "stream",
     "text": [
      "1984\n",
      "Doug\n",
      "22\n",
      "22\n",
      "1984\n",
      "Doug\n",
      "Doug\n",
      "22\n",
      "1984\n"
     ]
    }
   ],
   "source": [
    "a=\"Doug\"\n",
    "b=22\n",
    "c=1984\n",
    "i=0\n",
    "tub=''\n",
    "def rotate(a,b,c):\n",
    "    tup=(c,a,b)\n",
    "    return tup  \n",
    "# use rotate three time to unpack and print. \n",
    "for i in range(3):\n",
    "    t=rotate(a,b,c)\n",
    "    (a,b,c)=t\n",
    "    print(a)\n",
    "    print(b)\n",
    "    print(c)\n",
    "    i=i+1\n",
    "    \n"
   ]
  },
  {
   "cell_type": "code",
   "execution_count": null,
   "id": "28fa7886",
   "metadata": {},
   "outputs": [],
   "source": []
  },
  {
   "cell_type": "code",
   "execution_count": null,
   "id": "ed022061",
   "metadata": {},
   "outputs": [],
   "source": []
  }
 ],
 "metadata": {
  "kernelspec": {
   "display_name": "Python 3 (ipykernel)",
   "language": "python",
   "name": "python3"
  },
  "language_info": {
   "codemirror_mode": {
    "name": "ipython",
    "version": 3
   },
   "file_extension": ".py",
   "mimetype": "text/x-python",
   "name": "python",
   "nbconvert_exporter": "python",
   "pygments_lexer": "ipython3",
   "version": "3.9.7"
  }
 },
 "nbformat": 4,
 "nbformat_minor": 5
}
