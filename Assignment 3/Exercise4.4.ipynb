{
 "cells": [
  {
   "cell_type": "markdown",
   "id": "992dc371",
   "metadata": {},
   "source": [
    "# Exercise 4.4"
   ]
  },
  {
   "cell_type": "markdown",
   "id": "fff9759a",
   "metadata": {},
   "source": [
    "(What’s Does This Code Do?) What does the following mystery function do? Assume you pass the list [1, 2, 3, 4, 5] as an argument. \n",
    "\n",
    " "
   ]
  },
  {
   "cell_type": "code",
   "execution_count": 1,
   "id": "394a516e",
   "metadata": {},
   "outputs": [
    {
     "name": "stdout",
     "output_type": "stream",
     "text": [
      "55\n"
     ]
    }
   ],
   "source": [
    "def mystery(x):\n",
    "    y = 0  \n",
    "    for value in x:  \n",
    "        y += value ** 2  \n",
    "    return y \n",
    "\n",
    "print(mystery([1,2,3,4,5]))"
   ]
  },
  {
   "cell_type": "markdown",
   "id": "82dce819",
   "metadata": {},
   "source": [
    "verifying that the code is adding each squared numeric value."
   ]
  },
  {
   "cell_type": "code",
   "execution_count": 3,
   "id": "c68c8071",
   "metadata": {},
   "outputs": [
    {
     "data": {
      "text/plain": [
       "55"
      ]
     },
     "execution_count": 3,
     "metadata": {},
     "output_type": "execute_result"
    }
   ],
   "source": [
    "1+4+9+16+25"
   ]
  },
  {
   "cell_type": "markdown",
   "id": "327579ca",
   "metadata": {},
   "source": [
    "this code is squaring each numeric value in the list then adding it together."
   ]
  }
 ],
 "metadata": {
  "kernelspec": {
   "display_name": "Python 3 (ipykernel)",
   "language": "python",
   "name": "python3"
  },
  "language_info": {
   "codemirror_mode": {
    "name": "ipython",
    "version": 3
   },
   "file_extension": ".py",
   "mimetype": "text/x-python",
   "name": "python",
   "nbconvert_exporter": "python",
   "pygments_lexer": "ipython3",
   "version": "3.9.7"
  }
 },
 "nbformat": 4,
 "nbformat_minor": 5
}
