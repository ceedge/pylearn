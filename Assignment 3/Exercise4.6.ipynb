{
 "cells": [
  {
   "cell_type": "markdown",
   "id": "e796ab24",
   "metadata": {},
   "source": [
    "# Exercise 4.6"
   ]
  },
  {
   "cell_type": "markdown",
   "id": "56a24b3d",
   "metadata": {},
   "source": [
    "(Modified average Function) The average function we defined in Section 4.11  can receive any number of arguments. If you call it with no arguments, however, the function causes a ZeroDivisionError. Reimplement average to receive one required argument and the arbitrary argument list argument *args, and update its calculation  accordingly. Test your function. The function will always require at least one argument,  so you’ll no longer be able to get a ZeroDivisionError. When you call average with no  arguments, Python should issue a TypeError indicating \"average() missing 1 required  positional argument.\" \n",
    "\n"
   ]
  },
  {
   "cell_type": "code",
   "execution_count": 11,
   "id": "16778d83",
   "metadata": {},
   "outputs": [],
   "source": [
    "def average(FirstNum,*args):\n",
    "    total= FirstNum\n",
    "    for numbers in args:\n",
    "        total=total + numbers\n",
    "    return total/ (1+len(args)) \n",
    "\n"
   ]
  },
  {
   "cell_type": "code",
   "execution_count": 12,
   "id": "2b0bc1cc",
   "metadata": {},
   "outputs": [
    {
     "name": "stdout",
     "output_type": "stream",
     "text": [
      "6.0\n",
      "5.75\n",
      "7.0\n"
     ]
    }
   ],
   "source": [
    "# lets test the solution \n",
    "print(average(6))\n",
    "print(average(8,9,1,5))\n",
    "print(average(9,7,5))\n",
    "\n",
    "\n"
   ]
  },
  {
   "cell_type": "code",
   "execution_count": 13,
   "id": "65fcb51b",
   "metadata": {},
   "outputs": [
    {
     "name": "stdout",
     "output_type": "stream",
     "text": [
      "average() missing 1 required positional argumen.\n"
     ]
    }
   ],
   "source": [
    "# lets try the typeerror\n",
    "try:\n",
    "    print(average())\n",
    "except TypeError:\n",
    "    print(\"average() missing 1 required positional argumen.\")"
   ]
  },
  {
   "cell_type": "code",
   "execution_count": null,
   "id": "94ac55f5",
   "metadata": {},
   "outputs": [],
   "source": []
  }
 ],
 "metadata": {
  "kernelspec": {
   "display_name": "Python 3 (ipykernel)",
   "language": "python",
   "name": "python3"
  },
  "language_info": {
   "codemirror_mode": {
    "name": "ipython",
    "version": 3
   },
   "file_extension": ".py",
   "mimetype": "text/x-python",
   "name": "python",
   "nbconvert_exporter": "python",
   "pygments_lexer": "ipython3",
   "version": "3.9.7"
  }
 },
 "nbformat": 4,
 "nbformat_minor": 5
}
