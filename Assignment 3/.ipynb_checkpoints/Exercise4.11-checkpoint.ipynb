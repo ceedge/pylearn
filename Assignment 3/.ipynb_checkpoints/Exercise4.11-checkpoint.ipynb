{
 "cells": [
  {
   "cell_type": "markdown",
   "id": "73b629c2",
   "metadata": {},
   "source": [
    "# Exercise 4.11"
   ]
  },
  {
   "cell_type": "markdown",
   "id": "7f982f80",
   "metadata": {},
   "source": [
    "(Guess-the-Number Modification) Modify the previous exercise to count the number of guesses the player makes. If the number is 10 or fewer, display \"Either you know the  secret or you got lucky!\" If the player makes more than 10 guesses, display \"You should  be able to do better!\" Why should it take no more than 10 guesses? Well, with each “good  guess,” the player should be able to eliminate half of the numbers, then half of the remaining  numbers, and so on. Doing this 10 times narrows down the possibilities to a single number.  This kind of “halving” appears in many computer science applications. For example, in the  “Computer Science Thinking: Recursion, Searching, Sorting and Big O” chapter, we’ll present the high-speed binary search and merge sort algorithms, and you’ll attempt the quicksort  exercise—each of these cleverly uses halving to achieve high performance. \n",
    "\n",
    " "
   ]
  },
  {
   "cell_type": "code",
   "execution_count": 2,
   "id": "b775f8c4",
   "metadata": {},
   "outputs": [
    {
     "name": "stdout",
     "output_type": "stream",
     "text": [
      "Guess my number between 1 and 1000 with the fewest guesses:600\n",
      "Too High. Try again\n",
      "Guess my number between 1 and 1000 with the fewest guesses:300\n",
      "Too low.Try again\n",
      "Guess my number between 1 and 1000 with the fewest guesses:500\n",
      "Too High. Try again\n",
      "Guess my number between 1 and 1000 with the fewest guesses:400\n",
      "Too High. Try again\n",
      "Guess my number between 1 and 1000 with the fewest guesses:350\n",
      "Too low.Try again\n",
      "Guess my number between 1 and 1000 with the fewest guesses:370\n",
      "Too low.Try again\n",
      "Guess my number between 1 and 1000 with the fewest guesses:390\n",
      "Too High. Try again\n",
      "Guess my number between 1 and 1000 with the fewest guesses:380\n",
      "Too High. Try again\n",
      "Guess my number between 1 and 1000 with the fewest guesses:375\n",
      "Too High. Try again\n",
      "Guess my number between 1 and 1000 with the fewest guesses:374\n",
      "Too High. Try again\n",
      "Guess my number between 1 and 1000 with the fewest guesses:372\n",
      "Too low.Try again\n",
      "Guess my number between 1 and 1000 with the fewest guesses:373\n",
      "Congratulations. You guessed the number!\n",
      "You should be able to do better!\n",
      "Play again? y or n:y\n",
      "Lets play again!\n",
      "Guess my number between 1 and 1000 with the fewest guesses:600\n",
      "Too low.Try again\n",
      "Guess my number between 1 and 1000 with the fewest guesses:800\n",
      "Too High. Try again\n",
      "Guess my number between 1 and 1000 with the fewest guesses:700\n",
      "Too low.Try again\n",
      "Guess my number between 1 and 1000 with the fewest guesses:750\n",
      "Too High. Try again\n",
      "Guess my number between 1 and 1000 with the fewest guesses:730\n",
      "Too low.Try again\n",
      "Guess my number between 1 and 1000 with the fewest guesses:740\n",
      "Too low.Try again\n",
      "Guess my number between 1 and 1000 with the fewest guesses:745\n",
      "Congratulations. You guessed the number!\n",
      "Either you know the secret or you got lucky!\n",
      "Play again? y or n:y\n",
      "Lets play again!\n",
      "Guess my number between 1 and 1000 with the fewest guesses:600\n",
      "Too low.Try again\n",
      "Guess my number between 1 and 1000 with the fewest guesses:800\n",
      "Too High. Try again\n",
      "Guess my number between 1 and 1000 with the fewest guesses:700\n",
      "Too low.Try again\n",
      "Guess my number between 1 and 1000 with the fewest guesses:750\n",
      "Too low.Try again\n",
      "Guess my number between 1 and 1000 with the fewest guesses:780\n",
      "Too High. Try again\n",
      "Guess my number between 1 and 1000 with the fewest guesses:770\n",
      "Too High. Try again\n",
      "Guess my number between 1 and 1000 with the fewest guesses:760\n",
      "Too low.Try again\n",
      "Guess my number between 1 and 1000 with the fewest guesses:765\n",
      "Too High. Try again\n",
      "Guess my number between 1 and 1000 with the fewest guesses:763\n",
      "Congratulations. You guessed the number!\n",
      "Either you know the secret or you got lucky!\n",
      "Play again? y or n:n\n",
      "Great Game!\n"
     ]
    }
   ],
   "source": [
    "import random\n",
    "\n",
    "# get a number between 1  to 1000.\n",
    "rando= random.randint(1,1000)\n",
    "i=1\n",
    "while True:\n",
    "    guess= input('Guess my number between 1 and 1000 with the fewest guesses:')\n",
    "    if guess.isalpha():\n",
    "        print('Please input a number.')\n",
    "    else:\n",
    "        if guess.isnumeric():\n",
    "            guess=int(guess)\n",
    "            if guess==rando:\n",
    "                print(\"Congratulations. You guessed the number!\")\n",
    "                if i<=10:\n",
    "                    print('Either you know the secret or you got lucky!')\n",
    "                if i>10:\n",
    "                    print('You should be able to do better!')\n",
    "                again=input('Play again? y or n:' )\n",
    "                if ((again=='n')|(again=='N')|(again==\"y\")|(again=='Y')):\n",
    "                    if((again=='n')| (again=='N')):\n",
    "                        print('Great Game!')\n",
    "                        break\n",
    "                    else:\n",
    "                        print( 'Lets play again!')\n",
    "                        rando= random.randint(1,1000)\n",
    "                        i=1\n",
    "            elif guess<rando:\n",
    "                i=i+1\n",
    "                print(\"Too low.Try again\")\n",
    "            elif guess>rando:\n",
    "                i=i+1\n",
    "                print(\"Too High. Try again\")\n",
    "   "
   ]
  },
  {
   "cell_type": "code",
   "execution_count": null,
   "id": "ad65318e",
   "metadata": {},
   "outputs": [],
   "source": []
  }
 ],
 "metadata": {
  "kernelspec": {
   "display_name": "Python 3 (ipykernel)",
   "language": "python",
   "name": "python3"
  },
  "language_info": {
   "codemirror_mode": {
    "name": "ipython",
    "version": 3
   },
   "file_extension": ".py",
   "mimetype": "text/x-python",
   "name": "python",
   "nbconvert_exporter": "python",
   "pygments_lexer": "ipython3",
   "version": "3.9.7"
  }
 },
 "nbformat": 4,
 "nbformat_minor": 5
}
