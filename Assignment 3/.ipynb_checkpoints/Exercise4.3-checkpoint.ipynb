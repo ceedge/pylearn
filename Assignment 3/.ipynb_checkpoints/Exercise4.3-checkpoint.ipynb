{
 "cells": [
  {
   "cell_type": "markdown",
   "id": "46e35808",
   "metadata": {},
   "source": [
    "# Exercise 4.3"
   ]
  },
  {
   "cell_type": "markdown",
   "id": "fe67fcf3",
   "metadata": {},
   "source": [
    "(What’s Wrong with This Code?) What is wrong with the following cube function’s definition? \n",
    "\n"
   ]
  },
  {
   "cell_type": "code",
   "execution_count": 2,
   "id": "268c9a01",
   "metadata": {},
   "outputs": [
    {
     "name": "stdout",
     "output_type": "stream",
     "text": [
      "The cube of 2 is 8\n"
     ]
    }
   ],
   "source": [
    "def cube(x):  \n",
    "    \"\"\"Calculate the cube of x.\"\"\"  \n",
    "    return x ** 3  \n",
    "print('The cube of 2 is', cube(2)) \n",
    "\n",
    " "
   ]
  },
  {
   "cell_type": "markdown",
   "id": "30e7a4ef",
   "metadata": {},
   "source": [
    " The return statment was not added to the function. after adding return then the function work. "
   ]
  }
 ],
 "metadata": {
  "kernelspec": {
   "display_name": "Python 3 (ipykernel)",
   "language": "python",
   "name": "python3"
  },
  "language_info": {
   "codemirror_mode": {
    "name": "ipython",
    "version": 3
   },
   "file_extension": ".py",
   "mimetype": "text/x-python",
   "name": "python",
   "nbconvert_exporter": "python",
   "pygments_lexer": "ipython3",
   "version": "3.9.7"
  }
 },
 "nbformat": 4,
 "nbformat_minor": 5
}
