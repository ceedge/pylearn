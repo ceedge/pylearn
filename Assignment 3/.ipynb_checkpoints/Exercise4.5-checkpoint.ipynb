{
 "cells": [
  {
   "cell_type": "markdown",
   "id": "4f4ad99c",
   "metadata": {},
   "source": [
    "# Exercises 4.5"
   ]
  },
  {
   "cell_type": "markdown",
   "id": "8f57020f",
   "metadata": {},
   "source": [
    "(Fill in the Missing Code?) Replace the ***s in the seconds_since_midnight function so that it returns the number of seconds since midnight. The function should receive  three integers representing the current time of day. Assume that the hour is a value from  0 (midnight) through 23 (11 PM) and that the minute and second are values from 0 to 59.  Test your function with actual times. For example, if you call the function for 1:30:45 PM  by passing 13, 30 and 45, the function should return 48645. \n",
    "\n"
   ]
  },
  {
   "cell_type": "code",
   "execution_count": 1,
   "id": "6bee5ca7",
   "metadata": {},
   "outputs": [],
   "source": [
    "def seconds_since_midnight(hours,minutes,seconds):  \n",
    "    hour_in_seconds = hours*3600  \n",
    "    minute_in_seconds = minutes*60  \n",
    "    return hour_in_seconds+minute_in_seconds+seconds\n",
    "\n",
    "\n",
    " "
   ]
  },
  {
   "cell_type": "code",
   "execution_count": 2,
   "id": "c6f48bcc",
   "metadata": {},
   "outputs": [
    {
     "name": "stdout",
     "output_type": "stream",
     "text": [
      "48645\n"
     ]
    }
   ],
   "source": [
    "print(seconds_since_midnight(13,30,45))"
   ]
  },
  {
   "cell_type": "code",
   "execution_count": null,
   "id": "1d2f96fc",
   "metadata": {},
   "outputs": [],
   "source": []
  }
 ],
 "metadata": {
  "kernelspec": {
   "display_name": "Python 3 (ipykernel)",
   "language": "python",
   "name": "python3"
  },
  "language_info": {
   "codemirror_mode": {
    "name": "ipython",
    "version": 3
   },
   "file_extension": ".py",
   "mimetype": "text/x-python",
   "name": "python",
   "nbconvert_exporter": "python",
   "pygments_lexer": "ipython3",
   "version": "3.9.7"
  }
 },
 "nbformat": 4,
 "nbformat_minor": 5
}
