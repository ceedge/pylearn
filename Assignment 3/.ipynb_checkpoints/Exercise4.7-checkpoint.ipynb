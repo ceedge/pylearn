{
 "cells": [
  {
   "cell_type": "markdown",
   "id": "413d36dc",
   "metadata": {},
   "source": [
    "# Exercise 4.7"
   ]
  },
  {
   "cell_type": "markdown",
   "id": "73df0f1e",
   "metadata": {},
   "source": [
    "(Date and Time) Python’s datetime module contains a datetime type with a  method today that returns the current date and time as a datetime object. Write a parameterless date_and_time function containing the following statement, then call that function to display the current date and time: \n",
    "\n",
    "print(datetime.datetime.today())  \n",
    "\n",
    "On our system, the date and time display in the following format:  \n",
    "\n",
    "2018-06-08 13:04:19.214180  \n"
   ]
  },
  {
   "cell_type": "code",
   "execution_count": 1,
   "id": "5043e033",
   "metadata": {},
   "outputs": [],
   "source": [
    "\n",
    "import datetime\n",
    "\n",
    "def date_and_time():\n",
    "    print(datetime.datetime.today())\n",
    "    \n",
    "    "
   ]
  },
  {
   "cell_type": "code",
   "execution_count": 2,
   "id": "62359949",
   "metadata": {},
   "outputs": [
    {
     "name": "stdout",
     "output_type": "stream",
     "text": [
      "2022-10-22 20:28:43.405424\n",
      "None\n"
     ]
    }
   ],
   "source": [
    "print(date_and_time())"
   ]
  },
  {
   "cell_type": "code",
   "execution_count": null,
   "id": "0c2a9431",
   "metadata": {},
   "outputs": [],
   "source": []
  }
 ],
 "metadata": {
  "kernelspec": {
   "display_name": "Python 3 (ipykernel)",
   "language": "python",
   "name": "python3"
  },
  "language_info": {
   "codemirror_mode": {
    "name": "ipython",
    "version": 3
   },
   "file_extension": ".py",
   "mimetype": "text/x-python",
   "name": "python",
   "nbconvert_exporter": "python",
   "pygments_lexer": "ipython3",
   "version": "3.9.7"
  }
 },
 "nbformat": 4,
 "nbformat_minor": 5
}
