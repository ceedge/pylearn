{
 "cells": [
  {
   "cell_type": "markdown",
   "id": "e35ad5c2",
   "metadata": {},
   "source": [
    "#  Exercise 4.8"
   ]
  },
  {
   "cell_type": "markdown",
   "id": "43ab5d66",
   "metadata": {},
   "source": [
    "(Rounding Numbers) Investigate built-in function round at  https://docs.python.org/3/library/functions.html#round  then use it to round the float value 13.56449 to the nearest integer, tenths, hundredths  and thousandths positions.\n"
   ]
  },
  {
   "cell_type": "code",
   "execution_count": 7,
   "id": "44aef5da",
   "metadata": {},
   "outputs": [
    {
     "name": "stdout",
     "output_type": "stream",
     "text": [
      "14\n",
      "13.6\n",
      "13.56\n",
      "13.564\n"
     ]
    }
   ],
   "source": [
    "n=13.56449\n",
    "\n",
    "print(round(n))\n",
    "# print the tenth position\n",
    "print(round(n,1))\n",
    "# print the hundredth position\n",
    "print(round(n,2))\n",
    "# print the thousandth position\n",
    "print(round(n,3))\n",
    "      "
   ]
  },
  {
   "cell_type": "code",
   "execution_count": null,
   "id": "ca94d0e1",
   "metadata": {},
   "outputs": [],
   "source": []
  }
 ],
 "metadata": {
  "kernelspec": {
   "display_name": "Python 3 (ipykernel)",
   "language": "python",
   "name": "python3"
  },
  "language_info": {
   "codemirror_mode": {
    "name": "ipython",
    "version": 3
   },
   "file_extension": ".py",
   "mimetype": "text/x-python",
   "name": "python",
   "nbconvert_exporter": "python",
   "pygments_lexer": "ipython3",
   "version": "3.9.7"
  }
 },
 "nbformat": 4,
 "nbformat_minor": 5
}
