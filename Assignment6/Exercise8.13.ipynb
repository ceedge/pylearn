{
 "cells": [
  {
   "cell_type": "markdown",
   "id": "d05eccad",
   "metadata": {},
   "source": [
    "# Exercise 8.13 "
   ]
  },
  {
   "cell_type": "markdown",
   "id": "15ffaa6e",
   "metadata": {},
   "source": [
    "(Regular Expressions: Condense Spaces to a Single Space) Check whether a sentence contains more than one space between words. If so, remove the extra spaces and display the results. For example, 'Hello World' should become 'Hello World'.  "
   ]
  },
  {
   "cell_type": "code",
   "execution_count": 29,
   "id": "636e0501",
   "metadata": {},
   "outputs": [
    {
     "name": "stdout",
     "output_type": "stream",
     "text": [
      "enter some words:why    are so  happy  \n",
      "why are so happy \n"
     ]
    }
   ],
   "source": [
    "import re \n",
    "\n",
    "y=input('enter some words:')\n",
    "x=re.sub(r\"[ ]{2,}\",\" \",y)\n",
    "print(x)\n"
   ]
  },
  {
   "cell_type": "code",
   "execution_count": null,
   "id": "4cf7db42",
   "metadata": {},
   "outputs": [],
   "source": []
  },
  {
   "cell_type": "code",
   "execution_count": null,
   "id": "475c5f1d",
   "metadata": {},
   "outputs": [],
   "source": []
  }
 ],
 "metadata": {
  "kernelspec": {
   "display_name": "Python 3 (ipykernel)",
   "language": "python",
   "name": "python3"
  },
  "language_info": {
   "codemirror_mode": {
    "name": "ipython",
    "version": 3
   },
   "file_extension": ".py",
   "mimetype": "text/x-python",
   "name": "python",
   "nbconvert_exporter": "python",
   "pygments_lexer": "ipython3",
   "version": "3.9.7"
  }
 },
 "nbformat": 4,
 "nbformat_minor": 5
}
