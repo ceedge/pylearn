{
 "cells": [
  {
   "cell_type": "markdown",
   "id": "1cf838d6",
   "metadata": {},
   "source": [
    " # Exercise 9.3"
   ]
  },
  {
   "cell_type": "markdown",
   "id": "d65c4f87",
   "metadata": {},
   "source": [
    "(Class Average: Writing Student Records to a CSV File) An instructor teaches a  class in which each student takes three exams. The instructor would like to store this information in a file named grades.csv for later use. Write code that enables an instructor  to enter each student’s first name and last name as strings and the student’s three exam  grades as integers. Use the csv module to write each record into the grades.csv file. Each  record should be a single line of text in the following CSV format:  \n",
    "\n",
    "firstname,lastname,exam1grade,exam2grade,exam3grade \n",
    "\n"
   ]
  },
  {
   "cell_type": "code",
   "execution_count": 97,
   "id": "0eec043a",
   "metadata": {},
   "outputs": [
    {
     "name": "stdout",
     "output_type": "stream",
     "text": [
      "Enter the number of students: 2\n",
      "\n",
      "Enter First Name of Student 1: cj\n",
      "Enter Last Name of Student 1: h\n",
      "Enter grade for Exam 1: 55\n",
      "Enter grade for Exam 2: 88\n",
      "Enter grade for Exam 3: 99\n",
      "\n",
      "Enter First Name of Student 2: bob\n",
      "Enter Last Name of Student 2: 56\n",
      "Enter grade for Exam 1: 78\n",
      "Enter grade for Exam 2: 99\n",
      "Enter grade for Exam 3: 66\n",
      "['cj', 'h', 55, 88, 99]\n",
      "['bob', '56', 78, 99, 66]\n",
      "['First Name', 'Last Name', 'exam 1', 'exam 2', 'exam 3']\n",
      "[]\n"
     ]
    }
   ],
   "source": [
    "\n",
    "# solution 1\n",
    "import csv\n",
    "\n",
    "def grade():\n",
    "\n",
    "  \n",
    "    n = int(input(\"Enter the number of students: \"))\n",
    "\n",
    "    # add the headers\n",
    "    rows = [[\"First Name\", \"Last Name\", 'exam 1', 'exam 2', 'exam 3']]\n",
    "\n",
    "    \n",
    "    for i in range(n):\n",
    "        firstname = input(\"\\nEnter First Name of Student \"+str(i+1)+\": \")\n",
    "        lastname = input(\"Enter Last Name of Student \"+str(i+1)+\": \") \n",
    "        g1 = int(input(\"Enter grade for Exam {}: \".format(1)))\n",
    "        g2 = int(input(\"Enter grade for Exam {}: \".format(2)))\n",
    "        g3 = int(input(\"Enter grade for Exam {}: \".format(3)))\n",
    "\n",
    "        rows.append([firstname,lastname,g1,g2,g3])\n",
    "        \n",
    "   \n",
    "    with open(\"grades.csv\",'w',newline = '') as file:\n",
    "        fi = csv.writer(file)\n",
    "\n",
    "        for i in rows:\n",
    "            fi.writerow(i)\n",
    "\n",
    "\n",
    "    #Reading part.\n",
    "   \n",
    "    with open(\"grades.csv\") as file:\n",
    "        \n",
    "        file = csv.reader(file)\n",
    "\n",
    "        #Storing header values.\n",
    "        header = next(file)\n",
    "        print(header)\n",
    "\n",
    "        for i in file:\n",
    "            i[2] = int(i[2])\n",
    "            i[3] = int(i[3])\n",
    "            i[4] = int(i[4])\n",
    "            \n",
    "            print(i)\n",
    "            \n",
    "grade()"
   ]
  },
  {
   "cell_type": "code",
   "execution_count": 7,
   "id": "a3db3aac",
   "metadata": {},
   "outputs": [
    {
     "name": "stdout",
     "output_type": "stream",
     "text": [
      "Enter the number of students: 2\n",
      "\n",
      "Enter student's first name1: cj\n",
      "Enter student's last name 1: h\n",
      "Enter grade for Exam 1: 44\n",
      "Enter grade for Exam 2: 77\n",
      "Enter grade for Exam 3: 99\n",
      "\n",
      "Enter student's first name2: bob\n",
      "Enter student's last name 2: c\n",
      "Enter grade for Exam 1: 88\n",
      "Enter grade for Exam 2: 99\n",
      "Enter grade for Exam 3: 44\n",
      "['first name', 'last name', 'exam 1', 'exam 2', 'exam 3']\n",
      "[['cj', 'h', '44', '77', '99'], ['bob', 'c', '88', '99', '44']]\n"
     ]
    }
   ],
   "source": [
    "# solution 2\n",
    "import csv\n",
    "import pandas as pd\n",
    "\n",
    "\n",
    "n = int(input(\"Enter the number of students: \"))\n",
    "\n",
    "# Open \"grades.csv\" file \n",
    "file = open(\"grades.csv\", \"w\", newline='')\n",
    "writer = csv.writer(file)\n",
    "# adding headers \n",
    "writer.writerow([\"first name\",\"last name\", 'exam 1', 'exam 2', 'exam 3'])\n",
    "\n",
    "for i in range(n):\n",
    "    firstname = input(\"\\nEnter student's first name\"+str(i+1)+\": \")\n",
    "    lastname = input(\"Enter student's last name \"+str(i+1)+\": \")\n",
    "    g1 = int(input(\"Enter grade for Exam {}: \".format(1)))\n",
    "    g2 = int(input(\"Enter grade for Exam {}: \".format(2)))\n",
    "    g3 = int(input(\"Enter grade for Exam {}: \".format(3)))\n",
    "    # Write the data to the file\n",
    "\n",
    "    writer.writerow([firstname, lastname,g1,g2,g3])\n",
    "\n",
    "# Close the file\n",
    "file.close()\n",
    "\n",
    "file = open('grades.csv')\n",
    "type(file)\n",
    "csvreader = csv.reader(file)\n",
    "header=[]\n",
    "header = next(csvreader)\n",
    "print(header)\n",
    "rows = []\n",
    "for row in csvreader:\n",
    "        rows.append(row)\n",
    "print(rows)\n"
   ]
  },
  {
   "cell_type": "code",
   "execution_count": 8,
   "id": "e80d5a14",
   "metadata": {},
   "outputs": [
    {
     "data": {
      "text/html": [
       "<div>\n",
       "<style scoped>\n",
       "    .dataframe tbody tr th:only-of-type {\n",
       "        vertical-align: middle;\n",
       "    }\n",
       "\n",
       "    .dataframe tbody tr th {\n",
       "        vertical-align: top;\n",
       "    }\n",
       "\n",
       "    .dataframe thead th {\n",
       "        text-align: right;\n",
       "    }\n",
       "</style>\n",
       "<table border=\"1\" class=\"dataframe\">\n",
       "  <thead>\n",
       "    <tr style=\"text-align: right;\">\n",
       "      <th></th>\n",
       "      <th>first name</th>\n",
       "      <th>last name</th>\n",
       "      <th>exam 1</th>\n",
       "      <th>exam 2</th>\n",
       "      <th>exam 3</th>\n",
       "    </tr>\n",
       "  </thead>\n",
       "  <tbody>\n",
       "    <tr>\n",
       "      <th>0</th>\n",
       "      <td>cj</td>\n",
       "      <td>h</td>\n",
       "      <td>44</td>\n",
       "      <td>77</td>\n",
       "      <td>99</td>\n",
       "    </tr>\n",
       "    <tr>\n",
       "      <th>1</th>\n",
       "      <td>bob</td>\n",
       "      <td>c</td>\n",
       "      <td>88</td>\n",
       "      <td>99</td>\n",
       "      <td>44</td>\n",
       "    </tr>\n",
       "  </tbody>\n",
       "</table>\n",
       "</div>"
      ],
      "text/plain": [
       "  first name last name  exam 1  exam 2  exam 3\n",
       "0         cj         h      44      77      99\n",
       "1        bob         c      88      99      44"
      ]
     },
     "execution_count": 8,
     "metadata": {},
     "output_type": "execute_result"
    }
   ],
   "source": [
    "\n",
    "    \n",
    "data=pd.read_csv(r\"grades.csv\")\n",
    "data"
   ]
  },
  {
   "cell_type": "code",
   "execution_count": null,
   "id": "eb323b4c",
   "metadata": {},
   "outputs": [],
   "source": []
  }
 ],
 "metadata": {
  "kernelspec": {
   "display_name": "Python 3 (ipykernel)",
   "language": "python",
   "name": "python3"
  },
  "language_info": {
   "codemirror_mode": {
    "name": "ipython",
    "version": 3
   },
   "file_extension": ".py",
   "mimetype": "text/x-python",
   "name": "python",
   "nbconvert_exporter": "python",
   "pygments_lexer": "ipython3",
   "version": "3.9.7"
  }
 },
 "nbformat": 4,
 "nbformat_minor": 5
}
