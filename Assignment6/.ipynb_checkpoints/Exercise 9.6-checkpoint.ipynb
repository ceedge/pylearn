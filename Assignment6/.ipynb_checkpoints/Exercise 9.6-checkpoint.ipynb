{
 "cells": [
  {
   "cell_type": "markdown",
   "id": "075b7a80",
   "metadata": {},
   "source": [
    "# Exercise 9.6"
   ]
  },
  {
   "cell_type": "markdown",
   "id": "1971e918",
   "metadata": {},
   "source": [
    "9.6 (Class Average: Writing a Gradebook Dictionary to a JSON File) Reimplement  Exercise 9.3 using the json module to write the student information to the file in JSON  format. For this exercise, create a dictionary of student data in the following format:  \n",
    "\n",
    "gradebook_dict = {'students': [student1dictionary, student2dictionary, ...]}\n",
    "\n",
    "Each dictionary in the list represents one student and contains the keys 'first_name',  'last_name', 'exam1', 'exam2' and 'exam3', which map to the values representing each  student’s first name (string), last name (string) and three exam scores (integers). Output  the gradebook_dict in JSON format to the file grades.json. . "
   ]
  },
  {
   "cell_type": "code",
   "execution_count": 6,
   "id": "bb644702",
   "metadata": {},
   "outputs": [
    {
     "name": "stdout",
     "output_type": "stream",
     "text": [
      "Enter the number of students: 3\n",
      "\n",
      "Enter student's first name1: cj\n",
      "Enter student's last name 1: h\n",
      "Enter grade for Exam 1: 77\n",
      "Enter grade for Exam 2: 88\n",
      "Enter grade for Exam 3: 99\n",
      "\n",
      "Enter student's first name2: bob\n",
      "Enter student's last name 2: c\n",
      "Enter grade for Exam 1: 55\n",
      "Enter grade for Exam 2: 46\n",
      "Enter grade for Exam 3: 89\n",
      "\n",
      "Enter student's first name3: amy\n",
      "Enter student's last name 3: K\n",
      "Enter grade for Exam 1: 78\n",
      "Enter grade for Exam 2: 95\n",
      "Enter grade for Exam 3: 87\n",
      "{'students': [{'firstname': 'cj', 'lastname': 'h', 'exam1': 77, 'exam2': 88, 'exam3': 99}, {'firstname': 'bob', 'lastname': 'c', 'exam1': 55, 'exam2': 46, 'exam3': 89}, {'firstname': 'amy', 'lastname': 'K', 'exam1': 78, 'exam2': 95, 'exam3': 87}]}\n"
     ]
    }
   ],
   "source": [
    "import json\n",
    "\n",
    "\n",
    "gradebook_dict={'students':[]}\n",
    "n = int(input(\"Enter the number of students: \"))\n",
    "\n",
    "for i in range(n):\n",
    "    firstname = input(\"\\nEnter student's first name\"+str(i+1)+\": \")\n",
    "    lastname = input(\"Enter student's last name \"+str(i+1)+\": \")\n",
    "    g1 = int(input(\"Enter grade for Exam {}: \".format(1)))\n",
    "    g2 = int(input(\"Enter grade for Exam {}: \".format(2)))\n",
    "    g3 = int(input(\"Enter grade for Exam {}: \".format(3)))\n",
    "    # Write the data to the file\n",
    "\n",
    "    student_dict={'firstname':firstname, 'lastname':lastname,'exam1':g1,'exam2':g2,'exam3':g3}\n",
    "    gradebook_dict['students'].append(student_dict)\n",
    "\n",
    "print(gradebook_dict)\n",
    "\n",
    "with open('grades.json','w')as file:\n",
    "    json.dump(gradebook_dict,file)\n",
    "\n",
    "# Close the file\n",
    "file.close()"
   ]
  },
  {
   "cell_type": "code",
   "execution_count": null,
   "id": "4f59e0ef",
   "metadata": {},
   "outputs": [],
   "source": []
  },
  {
   "cell_type": "code",
   "execution_count": null,
   "id": "12021116",
   "metadata": {},
   "outputs": [],
   "source": []
  }
 ],
 "metadata": {
  "kernelspec": {
   "display_name": "Python 3 (ipykernel)",
   "language": "python",
   "name": "python3"
  },
  "language_info": {
   "codemirror_mode": {
    "name": "ipython",
    "version": 3
   },
   "file_extension": ".py",
   "mimetype": "text/x-python",
   "name": "python",
   "nbconvert_exporter": "python",
   "pygments_lexer": "ipython3",
   "version": "3.9.7"
  }
 },
 "nbformat": 4,
 "nbformat_minor": 5
}
