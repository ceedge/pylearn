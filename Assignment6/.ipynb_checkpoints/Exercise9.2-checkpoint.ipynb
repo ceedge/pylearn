{
 "cells": [
  {
   "cell_type": "markdown",
   "id": "f3e9bd91",
   "metadata": {},
   "source": [
    "# Exercise 9.2"
   ]
  },
  {
   "cell_type": "markdown",
   "id": "d34d4db0",
   "metadata": {},
   "source": [
    "(Class Average: Reading Grades from a Plain Text File) In an IPython session,  write code that reads the grades from the grades.txt file you created in the previous exercise. Display the individual grades and their total, count and average.  "
   ]
  },
  {
   "cell_type": "code",
   "execution_count": 4,
   "id": "ec64bd47",
   "metadata": {},
   "outputs": [
    {
     "name": "stdout",
     "output_type": "stream",
     "text": [
      "Grades: 66,77,20,11,55,44,68,90,99,89\n",
      "Total: 619\n",
      "Count: 10\n",
      "Average 61.9\n"
     ]
    }
   ],
   "source": [
    "   \n",
    "\n",
    "with open('grades.txt','r') as file:\n",
    "    lines=[]\n",
    "    for line in file:\n",
    "        lines.append(line.strip())\n",
    "    g=[ int(x) for x in lines]\n",
    "    sc=','.join(str(i) for i in g)\n",
    "    print( 'Grades:',sc)\n",
    "    print('Total:', sum(g))\n",
    "    print('Count:',len(g))\n",
    "    print('Average', sum(g)/len(g))\n",
    "file.close()    \n",
    "    \n"
   ]
  },
  {
   "cell_type": "code",
   "execution_count": null,
   "id": "bf144309",
   "metadata": {},
   "outputs": [],
   "source": []
  },
  {
   "cell_type": "code",
   "execution_count": null,
   "id": "b8914025",
   "metadata": {},
   "outputs": [],
   "source": []
  }
 ],
 "metadata": {
  "kernelspec": {
   "display_name": "Python 3 (ipykernel)",
   "language": "python",
   "name": "python3"
  },
  "language_info": {
   "codemirror_mode": {
    "name": "ipython",
    "version": 3
   },
   "file_extension": ".py",
   "mimetype": "text/x-python",
   "name": "python",
   "nbconvert_exporter": "python",
   "pygments_lexer": "ipython3",
   "version": "3.9.7"
  }
 },
 "nbformat": 4,
 "nbformat_minor": 5
}
