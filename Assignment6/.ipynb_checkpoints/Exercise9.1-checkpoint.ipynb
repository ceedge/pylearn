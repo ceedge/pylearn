{
 "cells": [
  {
   "cell_type": "markdown",
   "id": "f3e9bd91",
   "metadata": {},
   "source": [
    "# Exercise 9.1"
   ]
  },
  {
   "cell_type": "markdown",
   "id": "d34d4db0",
   "metadata": {},
   "source": [
    "9.1 (Class Average: Writing Grades to a Plain Text File) Figure 3.2 presented a classaverage script in which you could enter any number of grades followed by a sentinel value,  then calculate the class average. Another approach would be to read the grades from a file.  In an IPython session, write code that enables you to store any number of grades into a  grades.txt plain text file. \n",
    "\n"
   ]
  },
  {
   "cell_type": "code",
   "execution_count": 1,
   "id": "ec64bd47",
   "metadata": {},
   "outputs": [
    {
     "name": "stdout",
     "output_type": "stream",
     "text": [
      "Please enter grades (type -7 to quit):\n",
      "44\n",
      "77\n",
      "99\n",
      "60\n",
      "77\n",
      "-7\n",
      "Grades: 44,77,99,60,77\n",
      "Total: 357\n",
      "Count: 5\n",
      "Average 71.4\n"
     ]
    }
   ],
   "source": [
    "\n",
    "\n",
    "file=open('grades.txt','a')\n",
    "print('Please enter grades (type -7 to quit):')\n",
    "while True:\n",
    "    g=int(input())\n",
    "    if g== -7:\n",
    "        break\n",
    "    else:\n",
    "        file.writelines(f'{g}\\n')\n",
    "file.close()   \n",
    "\n",
    "with open('grades.txt','r') as file:\n",
    "    lines=[]\n",
    "    for line in file:\n",
    "        lines.append(line.strip())\n",
    "    g=[ int(x) for x in lines]\n",
    "    sc=','.join(str(i) for i in g)\n",
    "    print( 'Grades:',sc)\n",
    "    print('Total:', sum(g))\n",
    "    print('Count:',len(g))\n",
    "    print('Average', sum(g)/len(g))\n",
    "file.close()    \n",
    "    \n"
   ]
  },
  {
   "cell_type": "code",
   "execution_count": null,
   "id": "bf144309",
   "metadata": {},
   "outputs": [],
   "source": []
  },
  {
   "cell_type": "code",
   "execution_count": null,
   "id": "b8914025",
   "metadata": {},
   "outputs": [],
   "source": []
  }
 ],
 "metadata": {
  "kernelspec": {
   "display_name": "Python 3 (ipykernel)",
   "language": "python",
   "name": "python3"
  },
  "language_info": {
   "codemirror_mode": {
    "name": "ipython",
    "version": 3
   },
   "file_extension": ".py",
   "mimetype": "text/x-python",
   "name": "python",
   "nbconvert_exporter": "python",
   "pygments_lexer": "ipython3",
   "version": "3.9.7"
  }
 },
 "nbformat": 4,
 "nbformat_minor": 5
}
