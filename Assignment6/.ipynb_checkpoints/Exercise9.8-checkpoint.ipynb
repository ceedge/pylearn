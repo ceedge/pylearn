{
 "cells": [
  {
   "cell_type": "markdown",
   "id": "615223e0",
   "metadata": {},
   "source": [
    "# Exercise 9.8"
   ]
  },
  {
   "cell_type": "markdown",
   "id": "1bb648c2",
   "metadata": {},
   "source": [
    "(pickle Object Serialization and Deserialization) We mentioned that we prefer  to use JSON for object serialization due to the Python documentation’s stern security  warnings about pickle. However, pickle has been used to serialize objects for many years,  so you’re likely to encounter it in Python legacy code. According to the documentation,  “If you are doing your own pickle writing and reading, you’re safe (provided no one else  has access to the pickle file, of course.)”14 Reimplement your solutions to Exercises 9.6–  9.7 using the pickle module’s dump function to serialize the dictionary into a file and its  load function to deserialize the object. Pickle is a binary format, so this exercise requires  binary files. Use the file-open mode 'wb' to open the binary file for writing and 'rb' to  open the binary file for reading. Function dump receives as arguments an object to serialize  and a file object in which to write the serialized object. Function load receives the file object containing the serialized data and returns the original object. The Python documentation suggests the pickle file extension .p. \n",
    "\n"
   ]
  },
  {
   "cell_type": "code",
   "execution_count": 6,
   "id": "79b98295",
   "metadata": {},
   "outputs": [
    {
     "name": "stdout",
     "output_type": "stream",
     "text": [
      "Enter the number of students: 3\n",
      "\n",
      "Enter student's first name1: cj\n",
      "Enter student's last name 1: hef\n",
      "Enter grade for Exam 1: 95\n",
      "Enter grade for Exam 2: 88\n",
      "Enter grade for Exam 3: 98\n",
      "\n",
      "Enter student's first name2: bob\n",
      "Enter student's last name 2: coat\n",
      "Enter grade for Exam 1: 95\n",
      "Enter grade for Exam 2: 74\n",
      "Enter grade for Exam 3: 87\n",
      "\n",
      "Enter student's first name3: Amy\n",
      "Enter student's last name 3: Hill\n",
      "Enter grade for Exam 1: 72\n",
      "Enter grade for Exam 2: 65\n",
      "Enter grade for Exam 3: 98\n",
      "{'students': [{'firstname': 'cj', 'lastname': 'hef', 'exam1': 95, 'exam2': 88, 'exam3': 98}, {'firstname': 'bob', 'lastname': 'coat', 'exam1': 95, 'exam2': 74, 'exam3': 87}, {'firstname': 'Amy', 'lastname': 'Hill', 'exam1': 72, 'exam2': 65, 'exam3': 98}]}\n",
      "+----------------+----------+-------+-------+-------+----------------+\n",
      "|   firstname    | lastname | exam1 | exam2 | exam3 | studentaverage |\n",
      "+----------------+----------+-------+-------+-------+----------------+\n",
      "|       cj       |   hef    |   95  |   88  |   98  |     93.67      |\n",
      "|      bob       |   coat   |   95  |   74  |   87  |     85.33      |\n",
      "|      Amy       |   Hill   |   72  |   65  |   98  |     78.33      |\n",
      "|  class average |          | 87.33 | 75.67 | 94.33 |      N/A       |\n",
      "+----------------+----------+-------+-------+-------+----------------+\n"
     ]
    }
   ],
   "source": [
    "from prettytable import PrettyTable\n",
    "import pickle\n",
    "\n",
    "gradebook_dict={'students':[]}\n",
    "n = int(input(\"Enter the number of students: \"))\n",
    "\n",
    "for i in range(n):\n",
    "    firstname = input(\"\\nEnter student's first name\"+str(i+1)+\": \")\n",
    "    lastname = input(\"Enter student's last name \"+str(i+1)+\": \")\n",
    "    g1 = int(input(\"Enter grade for Exam {}: \".format(1)))\n",
    "    g2 = int(input(\"Enter grade for Exam {}: \".format(2)))\n",
    "    g3 = int(input(\"Enter grade for Exam {}: \".format(3)))\n",
    "    # Write the data to the file\n",
    "\n",
    "    student_dict={'firstname':firstname, 'lastname':lastname,'exam1':g1,'exam2':g2,'exam3':g3}\n",
    "    gradebook_dict['students'].append(student_dict)\n",
    "\n",
    "print(gradebook_dict)\n",
    "\n",
    "file=open('gradebook.p','wb')\n",
    "pickle.dump(gradebook_dict,file)\n",
    "file.close()\n",
    "\n",
    "newfile=open('gradebook.p','rb')\n",
    "data=pickle.load(newfile)\n",
    "newfile.close()\n",
    "\n",
    "data=data.pop('students')\n",
    "\n",
    "table = PrettyTable([\"firstname\",\"lastname\",\"exam1\",\"exam2\",\"exam3\",\"studentaverage\"])\n",
    "#some variables\n",
    "exam1 = 0\n",
    "exam2 = 0\n",
    "exam3 = 0\n",
    "i = 0\n",
    "\n",
    "studentaverage = ( (data[0]['exam1'] + data[0]['exam2'] + data[0]['exam3'] )/3)\n",
    "    \n",
    "for i in range(n):\n",
    "    studentaverage = ( (data[i]['exam1'] + data[i]['exam2'] + data[i]['exam3'] ) / 3)\n",
    "    exam1 = exam1 + data[i]['exam1']\n",
    "    exam2 = exam2 + data[i]['exam2']\n",
    "    exam3 = exam3 + data[i]['exam3']\n",
    "    table.add_row([data[i]['firstname'],data[i]['lastname'],data[i]['exam1'],data[i]['exam2'],data[i]['exam3'], round(studentaverage,2)])\n",
    "    i+= 1\n",
    "#caverage\n",
    "exam_1_average = exam1 / n\n",
    "exam_2_average = exam2 / n\n",
    "exam_3_average = exam3 / n\n",
    "    \n",
    "table.add_row([\" class average\",\"N/A\",round(exam_1_average,2),round(exam_2_average,2),round(exam_3_average,2),\"N/A\"])\n",
    "print(table)\n",
    "\n",
    "\n",
    "\n",
    "\n"
   ]
  },
  {
   "cell_type": "code",
   "execution_count": null,
   "id": "3cef4795",
   "metadata": {},
   "outputs": [],
   "source": []
  },
  {
   "cell_type": "code",
   "execution_count": null,
   "id": "d6b9e76c",
   "metadata": {},
   "outputs": [],
   "source": []
  }
 ],
 "metadata": {
  "kernelspec": {
   "display_name": "Python 3 (ipykernel)",
   "language": "python",
   "name": "python3"
  },
  "language_info": {
   "codemirror_mode": {
    "name": "ipython",
    "version": 3
   },
   "file_extension": ".py",
   "mimetype": "text/x-python",
   "name": "python",
   "nbconvert_exporter": "python",
   "pygments_lexer": "ipython3",
   "version": "3.9.7"
  }
 },
 "nbformat": 4,
 "nbformat_minor": 5
}
