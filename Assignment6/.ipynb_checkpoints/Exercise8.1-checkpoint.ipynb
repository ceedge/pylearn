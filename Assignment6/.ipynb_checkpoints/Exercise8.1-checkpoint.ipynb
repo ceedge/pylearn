{
 "cells": [
  {
   "cell_type": "markdown",
   "id": "6f59adde",
   "metadata": {},
   "source": [
    "# Exercise8.1 "
   ]
  },
  {
   "cell_type": "markdown",
   "id": "f71a2455",
   "metadata": {},
   "source": [
    "(Check Protection) Although electronic deposit has become extremely popular,  payroll and accounts payable applications often print checks. A serious problem is the intentional alteration of a check amount by someone who plans to cash a check fraudulently.  To prevent a dollar amount from being altered, some computerized check-writing systems  employ a technique called check protection. Checks designed for printing by computer typically contain a fixed number of spaces for the printed amount. Suppose a paycheck contains eight blank spaces in which the computer is supposed to print the amount of a weekly  paycheck. If the amount is large, then all eight of the spaces will be filled:  \n",
    "\n",
    "\n",
    "1,230.60 (check amount)  \n",
    "'--------'  \n",
    "01234567 (position numbers)  \n",
    "\n",
    "On the other hand, if the amount is smaller, then several of the spaces would ordinarily  be left blank. For example,  \n",
    "\n",
    "399.87  \n",
    "'--------'  \n",
    "01234567  \n",
    "\n",
    "\n",
    "contains two blank spaces. If a check is printed with blank spaces, it’s easier for someone  to alter the amount. Check-writing systems often insert leading asterisks to prevent alteration and protect the amount as follows:\n",
    "\n",
    "399.87  \n",
    "'--------'  \n",
    "01234567  \n",
    "\n",
    "Write a script that inputs a dollar amount, then prints the amount in check-protected format in a field of 10 characters with leading asterisks if necessary. [Hint: In a format string that explicitly specifies alignment with <, ^ or >, you can precede the  alignment specifier with the fill character of your choice.] \n",
    "\n"
   ]
  },
  {
   "cell_type": "code",
   "execution_count": 3,
   "id": "d4fc92fa",
   "metadata": {},
   "outputs": [
    {
     "name": "stdout",
     "output_type": "stream",
     "text": [
      "Enter the dollar amount : 23232;\n"
     ]
    },
    {
     "ename": "ValueError",
     "evalue": "invalid literal for int() with base 10: '23232;'",
     "output_type": "error",
     "traceback": [
      "\u001b[1;31m---------------------------------------------------------------------------\u001b[0m",
      "\u001b[1;31mValueError\u001b[0m                                Traceback (most recent call last)",
      "\u001b[1;32m~\\AppData\\Local\\Temp/ipykernel_13688/2438758938.py\u001b[0m in \u001b[0;36m<module>\u001b[1;34m\u001b[0m\n\u001b[0;32m      1\u001b[0m \u001b[1;31m#Prompt for dollars\u001b[0m\u001b[1;33m\u001b[0m\u001b[1;33m\u001b[0m\u001b[0m\n\u001b[1;32m----> 2\u001b[1;33m \u001b[0mamount\u001b[0m \u001b[1;33m=\u001b[0m \u001b[0mint\u001b[0m\u001b[1;33m(\u001b[0m\u001b[0minput\u001b[0m\u001b[1;33m(\u001b[0m\u001b[1;34m'Enter the dollar amount : '\u001b[0m\u001b[1;33m)\u001b[0m\u001b[1;33m)\u001b[0m\u001b[1;33m\u001b[0m\u001b[1;33m\u001b[0m\u001b[0m\n\u001b[0m\u001b[0;32m      3\u001b[0m \u001b[1;31m#Convert to string\u001b[0m\u001b[1;33m\u001b[0m\u001b[1;33m\u001b[0m\u001b[0m\n\u001b[0;32m      4\u001b[0m \u001b[0ms\u001b[0m \u001b[1;33m=\u001b[0m \u001b[0mstr\u001b[0m\u001b[1;33m(\u001b[0m\u001b[0mamt\u001b[0m\u001b[1;33m)\u001b[0m\u001b[1;33m\u001b[0m\u001b[1;33m\u001b[0m\u001b[0m\n\u001b[0;32m      5\u001b[0m \u001b[0mprint\u001b[0m\u001b[1;33m(\u001b[0m\u001b[1;34m'-'\u001b[0m\u001b[1;33m*\u001b[0m\u001b[1;36m10\u001b[0m\u001b[1;33m)\u001b[0m\u001b[1;33m\u001b[0m\u001b[1;33m\u001b[0m\u001b[0m\n",
      "\u001b[1;31mValueError\u001b[0m: invalid literal for int() with base 10: '23232;'"
     ]
    }
   ],
   "source": [
    "#Prompt for dollars\n",
    "amount = int(input('Enter the dollar amount : '))\n",
    "#Convert to string\n",
    "s = str(amt)\n",
    "print('-'*10)\n",
    "#Fill remaining spaces with *\n",
    "print('*'*(10-len(amount))+amount)"
   ]
  },
  {
   "cell_type": "code",
   "execution_count": 4,
   "id": "91773d46",
   "metadata": {},
   "outputs": [
    {
     "name": "stdout",
     "output_type": "stream",
     "text": [
      "Enter the dollar amount : 1234435\n",
      "----------\n",
      "*1234435\n"
     ]
    }
   ],
   "source": [
    "\n",
    "amount = int(input('Enter the dollar amount : '))\n",
    "\n",
    "print('-'*10)\n",
    "\n",
    "\n",
    "print('{:*>8d}'.format(amount))"
   ]
  },
  {
   "cell_type": "code",
   "execution_count": null,
   "id": "d2a06830",
   "metadata": {},
   "outputs": [],
   "source": []
  }
 ],
 "metadata": {
  "kernelspec": {
   "display_name": "Python 3 (ipykernel)",
   "language": "python",
   "name": "python3"
  },
  "language_info": {
   "codemirror_mode": {
    "name": "ipython",
    "version": 3
   },
   "file_extension": ".py",
   "mimetype": "text/x-python",
   "name": "python",
   "nbconvert_exporter": "python",
   "pygments_lexer": "ipython3",
   "version": "3.9.7"
  }
 },
 "nbformat": 4,
 "nbformat_minor": 5
}
