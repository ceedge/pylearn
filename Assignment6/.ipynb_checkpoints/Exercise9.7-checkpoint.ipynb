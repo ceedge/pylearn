{
 "cells": [
  {
   "cell_type": "markdown",
   "id": "0fe9195e",
   "metadata": {},
   "source": [
    "# Exercise 9.7"
   ]
  },
  {
   "cell_type": "markdown",
   "id": "094e2d2c",
   "metadata": {},
   "source": [
    "(Class Average: Reading a Gradebook Dictionary from a JSON File) Reimplement  Exercise 9.4 using the json module to read the grades.json file created in the previous  exercise. Display the data in tabular format, including an additional column showing each  student’s average to the right of that student’s three exam grades and an additional row  showing the class average on each exam below that exam’s column.  \n"
   ]
  },
  {
   "cell_type": "code",
   "execution_count": 122,
   "id": "900d0576",
   "metadata": {},
   "outputs": [
    {
     "name": "stdout",
     "output_type": "stream",
     "text": [
      "0     {'firstname': 'cj', 'lastname': 'h', 'exam1': 77, 'exam2': 88, 'exam3': 99}\n",
      "1    {'firstname': 'bob', 'lastname': 'c', 'exam1': 55, 'exam2': 46, 'exam3': 89}\n",
      "2    {'firstname': 'amy', 'lastname': 'K', 'exam1': 78, 'exam2': 95, 'exam3': 87}\n",
      "Name: students, dtype: object\n"
     ]
    }
   ],
   "source": [
    "import json\n",
    "from prettytable import PrettyTable\n",
    "import pandas as pd\n",
    "\n",
    "\n",
    "\n"
   ]
  },
  {
   "cell_type": "code",
   "execution_count": 158,
   "id": "9a1d94c9",
   "metadata": {},
   "outputs": [
    {
     "name": "stdout",
     "output_type": "stream",
     "text": [
      "+----------------+----------+-------+-------+-------+----------------+\n",
      "|   firstname    | lastname | exam1 | exam2 | exam3 | studentaverage |\n",
      "+----------------+----------+-------+-------+-------+----------------+\n",
      "|       cj       |    h     |   77  |   88  |   99  |      88.0      |\n",
      "|      bob       |    c     |   55  |   46  |   89  |     63.33      |\n",
      "|      amy       |    K     |   78  |   95  |   87  |     86.67      |\n",
      "|  class average |          |  70.0 | 76.33 | 91.67 |      N/A       |\n",
      "+----------------+----------+-------+-------+-------+----------------+\n"
     ]
    }
   ],
   "source": [
    "#reading the JSON file\n",
    "with open('grades.json') as f:\n",
    "    json_input = json.load(f)\n",
    "    \n",
    "    # pretty tables\n",
    "    json_input= json_input.pop('students')\n",
    "    table = PrettyTable([\"firstname\",\"lastname\",\"exam1\",\"exam2\",\"exam3\",\"studentaverage\"])\n",
    "    #some variables\n",
    "    exam1 = 0\n",
    "    exam2 = 0\n",
    "    exam3 = 0\n",
    "    i = 0\n",
    "    n=len(json_input)\n",
    "  \n",
    "    studentaverage = ( (json_input[0]['exam1'] + json_input[0]['exam2'] + json_input[0]['exam3'] )/3)\n",
    "    \n",
    "    \n",
    "    for i in range(n):\n",
    "        studentaverage = ( (json_input[i]['exam1'] + json_input[i]['exam2'] + json_input[i]['exam3'] ) / 3)\n",
    "        exam1 = exam1 + json_input[i]['exam1']\n",
    "        exam2 = exam2 + json_input[i]['exam2']\n",
    "        exam3 = exam3 + json_input[i]['exam3']\n",
    "        table.add_row([json_input[i]['firstname'],json_input[i]['lastname'],json_input[i]['exam1'],json_input[i]['exam2'],json_input[i]['exam3'], round(studentaverage,2)])\n",
    "        i+= 1\n",
    "    #caverage\n",
    "    exam_1_average = exam1 / n\n",
    "    exam_2_average = exam2 / n\n",
    "    exam_3_average = exam3 / n\n",
    "    \n",
    "    table.add_row([\" class average\",\" \",round(exam_1_average,2),round(exam_2_average,2),round(exam_3_average,2),\"N/A\"])\n",
    "    print(table)\n",
    "f.close()"
   ]
  },
  {
   "cell_type": "code",
   "execution_count": null,
   "id": "ceb7b70b",
   "metadata": {},
   "outputs": [],
   "source": []
  },
  {
   "cell_type": "code",
   "execution_count": null,
   "id": "f9f9aca4",
   "metadata": {},
   "outputs": [],
   "source": []
  }
 ],
 "metadata": {
  "kernelspec": {
   "display_name": "Python 3 (ipykernel)",
   "language": "python",
   "name": "python3"
  },
  "language_info": {
   "codemirror_mode": {
    "name": "ipython",
    "version": 3
   },
   "file_extension": ".py",
   "mimetype": "text/x-python",
   "name": "python",
   "nbconvert_exporter": "python",
   "pygments_lexer": "ipython3",
   "version": "3.9.7"
  }
 },
 "nbformat": 4,
 "nbformat_minor": 5
}
