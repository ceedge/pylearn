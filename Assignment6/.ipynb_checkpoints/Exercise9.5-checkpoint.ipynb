{
 "cells": [
  {
   "cell_type": "markdown",
   "id": "572d21ea",
   "metadata": {},
   "source": [
    "# Exercise 9.5"
   ]
  },
  {
   "cell_type": "markdown",
   "id": "33a7f703",
   "metadata": {},
   "source": [
    "(Class Average: Creating a Grade Report from a CSV File) Modify your solution  to the preceding exercise to create a grade report that displays each student’s average to the  right of that student’s row and the class average for each exam below that exam’s column.  "
   ]
  },
  {
   "cell_type": "code",
   "execution_count": 32,
   "id": "ad665549",
   "metadata": {},
   "outputs": [
    {
     "ename": "KeyboardInterrupt",
     "evalue": "Interrupted by user",
     "output_type": "error",
     "traceback": [
      "\u001b[1;31m---------------------------------------------------------------------------\u001b[0m",
      "\u001b[1;31mKeyboardInterrupt\u001b[0m                         Traceback (most recent call last)",
      "\u001b[1;32m~\\AppData\\Local\\Temp/ipykernel_28344/3681925063.py\u001b[0m in \u001b[0;36m<module>\u001b[1;34m\u001b[0m\n\u001b[0;32m      3\u001b[0m \u001b[1;33m\u001b[0m\u001b[0m\n\u001b[0;32m      4\u001b[0m \u001b[1;33m\u001b[0m\u001b[0m\n\u001b[1;32m----> 5\u001b[1;33m \u001b[0mn\u001b[0m \u001b[1;33m=\u001b[0m \u001b[0mint\u001b[0m\u001b[1;33m(\u001b[0m\u001b[0minput\u001b[0m\u001b[1;33m(\u001b[0m\u001b[1;34m\"Enter the number of students: \"\u001b[0m\u001b[1;33m)\u001b[0m\u001b[1;33m)\u001b[0m\u001b[1;33m\u001b[0m\u001b[1;33m\u001b[0m\u001b[0m\n\u001b[0m\u001b[0;32m      6\u001b[0m \u001b[1;33m\u001b[0m\u001b[0m\n\u001b[0;32m      7\u001b[0m \u001b[1;31m# Open \"grades.csv\" file in append\u001b[0m\u001b[1;33m\u001b[0m\u001b[1;33m\u001b[0m\u001b[0m\n",
      "\u001b[1;32m~\\anaconda3\\lib\\site-packages\\ipykernel\\kernelbase.py\u001b[0m in \u001b[0;36mraw_input\u001b[1;34m(self, prompt)\u001b[0m\n\u001b[0;32m   1004\u001b[0m                 \u001b[1;34m\"raw_input was called, but this frontend does not support input requests.\"\u001b[0m\u001b[1;33m\u001b[0m\u001b[1;33m\u001b[0m\u001b[0m\n\u001b[0;32m   1005\u001b[0m             )\n\u001b[1;32m-> 1006\u001b[1;33m         return self._input_request(\n\u001b[0m\u001b[0;32m   1007\u001b[0m             \u001b[0mstr\u001b[0m\u001b[1;33m(\u001b[0m\u001b[0mprompt\u001b[0m\u001b[1;33m)\u001b[0m\u001b[1;33m,\u001b[0m\u001b[1;33m\u001b[0m\u001b[1;33m\u001b[0m\u001b[0m\n\u001b[0;32m   1008\u001b[0m             \u001b[0mself\u001b[0m\u001b[1;33m.\u001b[0m\u001b[0m_parent_ident\u001b[0m\u001b[1;33m[\u001b[0m\u001b[1;34m\"shell\"\u001b[0m\u001b[1;33m]\u001b[0m\u001b[1;33m,\u001b[0m\u001b[1;33m\u001b[0m\u001b[1;33m\u001b[0m\u001b[0m\n",
      "\u001b[1;32m~\\anaconda3\\lib\\site-packages\\ipykernel\\kernelbase.py\u001b[0m in \u001b[0;36m_input_request\u001b[1;34m(self, prompt, ident, parent, password)\u001b[0m\n\u001b[0;32m   1049\u001b[0m             \u001b[1;32mexcept\u001b[0m \u001b[0mKeyboardInterrupt\u001b[0m\u001b[1;33m:\u001b[0m\u001b[1;33m\u001b[0m\u001b[1;33m\u001b[0m\u001b[0m\n\u001b[0;32m   1050\u001b[0m                 \u001b[1;31m# re-raise KeyboardInterrupt, to truncate traceback\u001b[0m\u001b[1;33m\u001b[0m\u001b[1;33m\u001b[0m\u001b[0m\n\u001b[1;32m-> 1051\u001b[1;33m                 \u001b[1;32mraise\u001b[0m \u001b[0mKeyboardInterrupt\u001b[0m\u001b[1;33m(\u001b[0m\u001b[1;34m\"Interrupted by user\"\u001b[0m\u001b[1;33m)\u001b[0m \u001b[1;32mfrom\u001b[0m \u001b[1;32mNone\u001b[0m\u001b[1;33m\u001b[0m\u001b[1;33m\u001b[0m\u001b[0m\n\u001b[0m\u001b[0;32m   1052\u001b[0m             \u001b[1;32mexcept\u001b[0m \u001b[0mException\u001b[0m\u001b[1;33m:\u001b[0m\u001b[1;33m\u001b[0m\u001b[1;33m\u001b[0m\u001b[0m\n\u001b[0;32m   1053\u001b[0m                 \u001b[0mself\u001b[0m\u001b[1;33m.\u001b[0m\u001b[0mlog\u001b[0m\u001b[1;33m.\u001b[0m\u001b[0mwarning\u001b[0m\u001b[1;33m(\u001b[0m\u001b[1;34m\"Invalid Message:\"\u001b[0m\u001b[1;33m,\u001b[0m \u001b[0mexc_info\u001b[0m\u001b[1;33m=\u001b[0m\u001b[1;32mTrue\u001b[0m\u001b[1;33m)\u001b[0m\u001b[1;33m\u001b[0m\u001b[1;33m\u001b[0m\u001b[0m\n",
      "\u001b[1;31mKeyboardInterrupt\u001b[0m: Interrupted by user"
     ]
    }
   ],
   "source": [
    "import csv\n",
    "import pandas as pd\n",
    "\n",
    "\n",
    "n = int(input(\"Enter the number of students: \"))\n",
    "\n",
    "# Open \"grades.csv\" file in append \n",
    "file = open(\"grades.csv\", \"w\", newline='')\n",
    "writer = csv.writer(file)\n",
    "# adding headers \n",
    "writer.writerow([\"first name\",\"last name\", 'exam 1', 'exam 2', 'exam 3',\"studentaverage\"])\n",
    "\n",
    "mean_stud = []\n",
    "mean_class = []\n",
    "row=[]\n",
    "for i in range(n):\n",
    "    firstname = input(\"\\nEnter student's first name\"+str(i+1)+\": \")\n",
    "    lastname = input(\"Enter student's last name \"+str(i+1)+\": \")\n",
    "    g1 = int(input(\"Enter grade for Exam {}: \".format(1)))\n",
    "    g2 = int(input(\"Enter grade for Exam {}: \".format(2)))\n",
    "    g3 = int(input(\"Enter grade for Exam {}: \".format(3)))\n",
    "    sa = round((g1+g2+g3 )/3,2)\n",
    "    # Write the data to the file\n",
    "    \n",
    "\n",
    "    writer.writerow([firstname, lastname,g1,g2,g3,sa])\n",
    "\n",
    "# Close the file\n",
    "file.close()\n",
    "\n",
    "file = open('grades.csv')\n",
    "\n",
    "csvreader = csv.reader(file)\n",
    "header=[]\n",
    "header = next(csvreader)\n",
    "print(header)\n",
    "rows = []\n",
    "for row in csvreader:\n",
    "        rows.append(row)\n",
    "print(rows)\n",
    "file.close()\n"
   ]
  },
  {
   "cell_type": "code",
   "execution_count": 31,
   "id": "8b0264b6",
   "metadata": {},
   "outputs": [
    {
     "name": "stdout",
     "output_type": "stream",
     "text": [
      "------------------------------------------------------------------------------------------\n",
      "|First Name      | Last Name       | Exam 1     | Exam 2     | Exam 3     |studentaverage |\n",
      "------------------------------------------------------------------------------------------\n",
      "|cj              | c               | 88         | 99         | 66         |84.33          |\n",
      "|bob             | c               | 99         | 66         | 77         |80.67          |\n",
      "------------------------------------------------------------------------------------------\n",
      "|Average         |                 | 93.50      | 82.50      | 71.50      |               |\n",
      "------------------------------------------------------------------------------------------\n"
     ]
    }
   ],
   "source": [
    "\n",
    "file = open(\"grades.csv\", \"r\")\n",
    "reader = csv.reader(file)   # \n",
    "ag = [0, 0, 0]  # To store the class average grade of each exm\n",
    "num_records = 0             # To store the number of records in the file\n",
    "# Read the data from the file and print in tabular format\n",
    " #Print the header\n",
    "print(\"-\" * 90)\n",
    "print(f\"|{'First Name':<15} | {'Last Name':<15} | {'Exam 1':<10} | {'Exam 2':<10} | {'Exam 3':<10} |{'studentaverage':<10} |\")\n",
    "print(\"-\" * 90)\n",
    "\n",
    "\n",
    "next(reader)\n",
    "for row in reader:\n",
    "    print(\n",
    "        f\"|{row[0]:<15} | {row[1]:<15} | {row[2]:<10} | {row[3]:<10} | {row[4]:<10} |{row[5]:<14} |\")\n",
    "    # Add the exm 1 grade to the average_grades list\n",
    "    ag[0] += int(row[2])\n",
    "    # Add the exm 2 grade to the average_grades list\n",
    "    ag[1] += int(row[3])\n",
    "    # Add the exm 3 grade to the average_grades list\n",
    "    ag[2] += int(row[4])\n",
    "    num_records += 1                    # Increment the number of records\n",
    "\n",
    "\n",
    "print(\"-\" * 90)\n",
    "# Display average grades (round to 2 decimal places)\n",
    "print(\n",
    "    f\"|{'Average':<15} | {'':<15} | {ag[0] / num_records:<10.2f} | {ag[1] / num_records:<10.2f} | {ag[2] / num_records:<10.2f} |{'':<15}|\")\n",
    "\n",
    "print(\"-\" * 90)\n",
    "\n",
    "file.close()"
   ]
  },
  {
   "cell_type": "code",
   "execution_count": null,
   "id": "cd9ab1ef",
   "metadata": {},
   "outputs": [],
   "source": []
  }
 ],
 "metadata": {
  "kernelspec": {
   "display_name": "Python 3 (ipykernel)",
   "language": "python",
   "name": "python3"
  },
  "language_info": {
   "codemirror_mode": {
    "name": "ipython",
    "version": 3
   },
   "file_extension": ".py",
   "mimetype": "text/x-python",
   "name": "python",
   "nbconvert_exporter": "python",
   "pygments_lexer": "ipython3",
   "version": "3.9.7"
  }
 },
 "nbformat": 4,
 "nbformat_minor": 5
}
